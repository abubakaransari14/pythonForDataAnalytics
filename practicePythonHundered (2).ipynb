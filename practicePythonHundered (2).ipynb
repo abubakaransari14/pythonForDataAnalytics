{
  "nbformat": 4,
  "nbformat_minor": 0,
  "metadata": {
    "colab": {
      "provenance": []
    },
    "kernelspec": {
      "name": "python3",
      "display_name": "Python 3"
    },
    "language_info": {
      "name": "python"
    }
  },
  "cells": [
    {
      "cell_type": "markdown",
      "source": [
        "# **15th October, 2025**"
      ],
      "metadata": {
        "id": "3_RKCfakBQKE"
      }
    },
    {
      "cell_type": "markdown",
      "source": [
        "# **EASY LEVEL (25 QUESTIONS)**"
      ],
      "metadata": {
        "id": "NAAVJ7gfW0G8"
      }
    },
    {
      "cell_type": "markdown",
      "source": [
        "**1. Write a program to find the factorial of a number using recursion.**"
      ],
      "metadata": {
        "id": "3pw8RpaFBh5y"
      }
    },
    {
      "cell_type": "code",
      "execution_count": 1,
      "metadata": {
        "colab": {
          "base_uri": "https://localhost:8080/"
        },
        "id": "ALtaufLqBI8W",
        "outputId": "325c862d-a966-45a5-f480-93bf2315f6d9"
      },
      "outputs": [
        {
          "output_type": "execute_result",
          "data": {
            "text/plain": [
              "120"
            ]
          },
          "metadata": {},
          "execution_count": 1
        }
      ],
      "source": [
        "def factorial(num):\n",
        "  if num == 0 or num == 1:\n",
        "    return 1\n",
        "  elif num > 1:\n",
        "    return num * factorial(num-1)\n",
        "  else:\n",
        "    print(\"Please Enter a valid number\")\n",
        "\n",
        "factorial(5)"
      ]
    },
    {
      "cell_type": "code",
      "source": [
        "# now without recursion\n",
        "def factorial2(num2):\n",
        "  if num2 == 0 or num2 == 1:\n",
        "    return 1\n",
        "  fact = 1\n",
        "  while num2 > 1:\n",
        "\n",
        "    fact *= num2\n",
        "\n",
        "    num2 = num2-1\n",
        "  return fact\n",
        "\n",
        "factorial2(5)\n"
      ],
      "metadata": {
        "colab": {
          "base_uri": "https://localhost:8080/"
        },
        "id": "cfnN01StCvfQ",
        "outputId": "be6e428e-fdea-4947-bf02-51ac6677005d"
      },
      "execution_count": 2,
      "outputs": [
        {
          "output_type": "execute_result",
          "data": {
            "text/plain": [
              "120"
            ]
          },
          "metadata": {},
          "execution_count": 2
        }
      ]
    },
    {
      "cell_type": "markdown",
      "source": [
        "**2.\tPrint the Fibonacci sequence up to n terms.**"
      ],
      "metadata": {
        "id": "nxd3mKPyOkEI"
      }
    },
    {
      "cell_type": "code",
      "source": [
        "def fibonacci(n):\n",
        "    seq = [0, 1]\n",
        "    for i in range(2, n):\n",
        "      seq.append(seq[-1] + seq[-2])\n",
        "    return seq\n",
        "\n",
        "fibonacci(6)"
      ],
      "metadata": {
        "colab": {
          "base_uri": "https://localhost:8080/"
        },
        "id": "S_3FbHqIEVcE",
        "outputId": "01bf6d3c-0d2b-4d1a-96c6-cead9888d9ce"
      },
      "execution_count": 3,
      "outputs": [
        {
          "output_type": "execute_result",
          "data": {
            "text/plain": [
              "[0, 1, 1, 2, 3, 5]"
            ]
          },
          "metadata": {},
          "execution_count": 3
        }
      ]
    },
    {
      "cell_type": "code",
      "source": [
        "def fibonacci2(n2):\n",
        "  a = 0\n",
        "  b = 1\n",
        "  for i in range(n2):\n",
        "    print(a, end=\" \")\n",
        "    temp = a\n",
        "    a = b\n",
        "    b = temp+b\n",
        "\n",
        "fibonacci2(6)"
      ],
      "metadata": {
        "colab": {
          "base_uri": "https://localhost:8080/"
        },
        "id": "0myQTcEXOmu0",
        "outputId": "b301c676-2a6b-432e-ca77-7cedaf5d90a7"
      },
      "execution_count": 4,
      "outputs": [
        {
          "output_type": "stream",
          "name": "stdout",
          "text": [
            "0 1 1 2 3 5 "
          ]
        }
      ]
    },
    {
      "cell_type": "markdown",
      "source": [
        "**3.\tCheck if a number is prime or not.**"
      ],
      "metadata": {
        "id": "aeLvmLAgSrHq"
      }
    },
    {
      "cell_type": "code",
      "source": [
        "def primeCheck(n):\n",
        "  c = 0\n",
        "  if n == 0 or n == 1:\n",
        "    print(\"Not a prime Number\")\n",
        "\n",
        "  else:\n",
        "    for i in range(1,n+1):\n",
        "      if n % i == 0:\n",
        "        c += 1\n",
        "      else:\n",
        "        c = c\n",
        "\n",
        "  if c == 2:\n",
        "    print(\"Prime Number\")\n",
        "  else:\n",
        "    print(\"Not Prime\")\n",
        "\n",
        "primeCheck(11)"
      ],
      "metadata": {
        "colab": {
          "base_uri": "https://localhost:8080/"
        },
        "id": "tItDcMMVQjTv",
        "outputId": "cbb0c64d-97ff-4e5a-ddf0-d9b211f416c6"
      },
      "execution_count": 5,
      "outputs": [
        {
          "output_type": "stream",
          "name": "stdout",
          "text": [
            "Prime Number\n"
          ]
        }
      ]
    },
    {
      "cell_type": "markdown",
      "source": [
        "**4.\tReverse a string without using slicing.**"
      ],
      "metadata": {
        "id": "eu2KxPAZVot_"
      }
    },
    {
      "cell_type": "code",
      "source": [
        "def reverseString(myString):\n",
        "  revStr = ''\n",
        "  for i in range(len(myString)-1,-1,-1):\n",
        "    revStr += myString[i]\n",
        "  return revStr\n",
        "reverseString(\"Abubakar\")"
      ],
      "metadata": {
        "colab": {
          "base_uri": "https://localhost:8080/",
          "height": 36
        },
        "id": "Xft8vrl2TJmX",
        "outputId": "ebc3b372-b905-4446-aba4-f868756bd942"
      },
      "execution_count": 6,
      "outputs": [
        {
          "output_type": "execute_result",
          "data": {
            "text/plain": [
              "'rakabubA'"
            ],
            "application/vnd.google.colaboratory.intrinsic+json": {
              "type": "string"
            }
          },
          "metadata": {},
          "execution_count": 6
        }
      ]
    },
    {
      "cell_type": "code",
      "source": [
        "def reverseString2(myString2):\n",
        "  return \"\".join(reversed(myString2))\n",
        "\n",
        "reverseString2(\"Abubakar\")\n"
      ],
      "metadata": {
        "colab": {
          "base_uri": "https://localhost:8080/",
          "height": 36
        },
        "id": "BDb9CWiIWCCt",
        "outputId": "d143e790-754a-4189-da6e-9fae2ccd940c"
      },
      "execution_count": 7,
      "outputs": [
        {
          "output_type": "execute_result",
          "data": {
            "text/plain": [
              "'rakabubA'"
            ],
            "application/vnd.google.colaboratory.intrinsic+json": {
              "type": "string"
            }
          },
          "metadata": {},
          "execution_count": 7
        }
      ]
    },
    {
      "cell_type": "markdown",
      "source": [
        "**5.\tFind the largest element in a list.**"
      ],
      "metadata": {
        "id": "kNFtRO5ZdgCX"
      }
    },
    {
      "cell_type": "code",
      "source": [
        "def largest(arr):\n",
        "  max = arr[0]\n",
        "  for i in range(len(arr)):\n",
        "    if arr[i] > max:\n",
        "      max = arr[i]\n",
        "  return max\n",
        "\n",
        "largest([11,2,3,4,44,7,8,9,44])"
      ],
      "metadata": {
        "colab": {
          "base_uri": "https://localhost:8080/"
        },
        "id": "dT4AIgQsXCgL",
        "outputId": "67c748f3-b5e6-402a-a503-67acbd21517e"
      },
      "execution_count": 8,
      "outputs": [
        {
          "output_type": "execute_result",
          "data": {
            "text/plain": [
              "44"
            ]
          },
          "metadata": {},
          "execution_count": 8
        }
      ]
    },
    {
      "cell_type": "markdown",
      "source": [
        "**6.\tCount vowels and consonants in a string.**"
      ],
      "metadata": {
        "id": "5f0Gtjt5eEVr"
      }
    },
    {
      "cell_type": "code",
      "source": [
        "def countVowelConsonants(myStr):\n",
        "  vowel = 'aeiou'\n",
        "  vowelCount = 0\n",
        "  consCount = 0\n",
        "  for i in range(len(myStr)):\n",
        "    if myStr[i].lower() in vowel:\n",
        "      vowelCount +=1\n",
        "    else:\n",
        "      consCount +=1\n",
        "\n",
        "  return str(vowelCount) + ' vowels and ' + str(consCount) + ' consonants'\n",
        "\n",
        "countVowelConsonants('Uyair')"
      ],
      "metadata": {
        "colab": {
          "base_uri": "https://localhost:8080/",
          "height": 36
        },
        "id": "xpBOvK2rd3K-",
        "outputId": "a263a999-c774-4503-b29c-5d245b2b897f"
      },
      "execution_count": 9,
      "outputs": [
        {
          "output_type": "execute_result",
          "data": {
            "text/plain": [
              "'3 vowels and 2 consonants'"
            ],
            "application/vnd.google.colaboratory.intrinsic+json": {
              "type": "string"
            }
          },
          "metadata": {},
          "execution_count": 9
        }
      ]
    },
    {
      "cell_type": "markdown",
      "source": [
        "**7.\tPrint multiplication table of any number.**"
      ],
      "metadata": {
        "id": "GdpDQ9JKnIes"
      }
    },
    {
      "cell_type": "code",
      "source": [
        "def multiplicationTable(n,start,end):\n",
        "  for i in range(start,end+1):\n",
        "    print(n , \" x \" ,i, \" = \" ,n*i)\n",
        "\n",
        "multiplicationTable(6,5,10)"
      ],
      "metadata": {
        "id": "sYDTUXuEeZfL",
        "colab": {
          "base_uri": "https://localhost:8080/"
        },
        "outputId": "52a2e16b-c2cc-43e0-a113-a86f0a1570ec"
      },
      "execution_count": 10,
      "outputs": [
        {
          "output_type": "stream",
          "name": "stdout",
          "text": [
            "6  x  5  =  30\n",
            "6  x  6  =  36\n",
            "6  x  7  =  42\n",
            "6  x  8  =  48\n",
            "6  x  9  =  54\n",
            "6  x  10  =  60\n"
          ]
        }
      ]
    },
    {
      "cell_type": "markdown",
      "source": [
        "**8.\tCheck if a string is a palindrome.**"
      ],
      "metadata": {
        "id": "cSx1Bj-QphGo"
      }
    },
    {
      "cell_type": "code",
      "source": [
        "def palindrome(myStr):\n",
        "  revStr = \"\".join(reversed(myStr))\n",
        "\n",
        "  if revStr.lower() == myStr.lower():\n",
        "    print(\"Palindrome\")\n",
        "  else:\n",
        "    print(\"No Palindrom\")\n",
        "\n",
        "palindrome(\"Dad\")"
      ],
      "metadata": {
        "colab": {
          "base_uri": "https://localhost:8080/"
        },
        "id": "YoOnNO_9n45r",
        "outputId": "fe00040b-ec2e-4fa2-b409-0d7e1da39f67"
      },
      "execution_count": 11,
      "outputs": [
        {
          "output_type": "stream",
          "name": "stdout",
          "text": [
            "Palindrome\n"
          ]
        }
      ]
    },
    {
      "cell_type": "markdown",
      "source": [
        "**9.\tFind the second largest number in a list.**"
      ],
      "metadata": {
        "id": "McUO5nSAsIDJ"
      }
    },
    {
      "cell_type": "code",
      "source": [
        "def secondLargest(arr):\n",
        "  max = float('-inf')\n",
        "  secondMax = float('-inf')\n",
        "  for i in range(len(arr)):\n",
        "    if max < arr[i]:\n",
        "      secondMax = max\n",
        "      max = arr[i]\n",
        "    elif secondMax < arr[i] and secondMax < max:\n",
        "      secondMax = arr[i]\n",
        "\n",
        "  return max, secondMax\n",
        "\n",
        "secondLargest([1111,11123,342,12,123,11,122,1])"
      ],
      "metadata": {
        "colab": {
          "base_uri": "https://localhost:8080/"
        },
        "id": "NRW6NsMhpxSh",
        "outputId": "f1df84e2-3909-40fb-a74c-2e67217bbe70"
      },
      "execution_count": 12,
      "outputs": [
        {
          "output_type": "execute_result",
          "data": {
            "text/plain": [
              "(11123, 1111)"
            ]
          },
          "metadata": {},
          "execution_count": 12
        }
      ]
    },
    {
      "cell_type": "markdown",
      "source": [
        "**10.\tMerge two lists and remove duplicates.**"
      ],
      "metadata": {
        "id": "1ZW2uoYexInP"
      }
    },
    {
      "cell_type": "code",
      "source": [
        "def mergeTwoList(arr1,arr2):\n",
        "  return arr1+arr2\n",
        "\n",
        "mergeTwoList([1,2,3,4],[3,21,121,12])"
      ],
      "metadata": {
        "colab": {
          "base_uri": "https://localhost:8080/"
        },
        "id": "8Muydl-XtOf4",
        "outputId": "3e4f34d6-328a-44e7-eace-007a1243e8f1"
      },
      "execution_count": 13,
      "outputs": [
        {
          "output_type": "execute_result",
          "data": {
            "text/plain": [
              "[1, 2, 3, 4, 3, 21, 121, 12]"
            ]
          },
          "metadata": {},
          "execution_count": 13
        }
      ]
    },
    {
      "cell_type": "code",
      "source": [
        "def mergeTwoList2(arr1,arr2):\n",
        "  arr1.extend(arr2)\n",
        "  return arr1\n",
        "\n",
        "mergeTwoList2([1,2,3,4],[3,21,121,12])"
      ],
      "metadata": {
        "colab": {
          "base_uri": "https://localhost:8080/"
        },
        "id": "HJKJKrXBzsWu",
        "outputId": "2b770155-3e82-4f51-c840-b9483d3d8728"
      },
      "execution_count": 14,
      "outputs": [
        {
          "output_type": "execute_result",
          "data": {
            "text/plain": [
              "[1, 2, 3, 4, 3, 21, 121, 12]"
            ]
          },
          "metadata": {},
          "execution_count": 14
        }
      ]
    },
    {
      "cell_type": "code",
      "source": [
        "def mergeTwoList2(arr1,arr2):\n",
        "  c = [*arr1, *arr2]\n",
        "  return c\n",
        "\n",
        "mergeTwoList2([1,2,3,4],[3,21,121,12])"
      ],
      "metadata": {
        "colab": {
          "base_uri": "https://localhost:8080/"
        },
        "id": "b1rbLt6q0RrZ",
        "outputId": "ee89da4c-be75-44a7-f991-31d5b232148f"
      },
      "execution_count": 15,
      "outputs": [
        {
          "output_type": "execute_result",
          "data": {
            "text/plain": [
              "[1, 2, 3, 4, 3, 21, 121, 12]"
            ]
          },
          "metadata": {},
          "execution_count": 15
        }
      ]
    },
    {
      "cell_type": "code",
      "source": [
        "def mergerList(arr1, arr2):\n",
        "  mergArr = []\n",
        "  for i in arr1:\n",
        "    mergArr.append(i)\n",
        "  for j in arr2:\n",
        "    mergArr.append(j)\n",
        "\n",
        "  return mergArr\n",
        "\n",
        "mergerList([1,2321,213,1321,1213,1],[1,23,5,4,5,7,7,8])"
      ],
      "metadata": {
        "colab": {
          "base_uri": "https://localhost:8080/"
        },
        "id": "cQ66vi6j0q-3",
        "outputId": "5a8e8555-da8b-42c4-98cc-cf89e04ee172"
      },
      "execution_count": 16,
      "outputs": [
        {
          "output_type": "execute_result",
          "data": {
            "text/plain": [
              "[1, 2321, 213, 1321, 1213, 1, 1, 23, 5, 4, 5, 7, 7, 8]"
            ]
          },
          "metadata": {},
          "execution_count": 16
        }
      ]
    },
    {
      "cell_type": "markdown",
      "source": [
        "**11.\tCount frequency of each element in a list.**"
      ],
      "metadata": {
        "id": "DJRy_ad11fdM"
      }
    },
    {
      "cell_type": "code",
      "source": [
        "def frequencyCount(arr):\n",
        "  freq = dict()\n",
        "  for i in range(len(arr)):\n",
        "    count = 0\n",
        "    for j in range(len(arr)):\n",
        "      if arr[i] == arr[j]:\n",
        "        count +=1\n",
        "    freq[arr[i]] = count\n",
        "\n",
        "  return freq\n",
        "\n",
        "frequencyCount(['Uzair',1,1,2321,2321,11,12,12,1,5,4,'Uzair','a'])"
      ],
      "metadata": {
        "colab": {
          "base_uri": "https://localhost:8080/"
        },
        "id": "IcjAi3021T9k",
        "outputId": "ce507c0a-41f9-4df9-fcb5-85d2576e25ef"
      },
      "execution_count": 17,
      "outputs": [
        {
          "output_type": "execute_result",
          "data": {
            "text/plain": [
              "{'Uzair': 2, 1: 3, 2321: 2, 11: 1, 12: 2, 5: 1, 4: 1, 'a': 1}"
            ]
          },
          "metadata": {},
          "execution_count": 17
        }
      ]
    },
    {
      "cell_type": "markdown",
      "source": [
        "**12.\tSort a list without using the built-in sort() method.**"
      ],
      "metadata": {
        "id": "cBYLGAl9sLO6"
      }
    },
    {
      "cell_type": "code",
      "source": [
        "def mySort(arr):\n",
        "  for i in range(len(arr)):\n",
        "    min = arr[i]\n",
        "    idx = i\n",
        "    c = i\n",
        "    for j in range(i,len(arr)):\n",
        "      if arr[j] < min :\n",
        "        min = arr[j]\n",
        "        idx = c\n",
        "      c+=1\n",
        "    temp = arr[i]\n",
        "    arr[i] = min\n",
        "    arr[idx] = temp\n",
        "  print(arr)\n",
        "\n",
        "mySort([1,2,1,1,12,3,3,3])\n"
      ],
      "metadata": {
        "colab": {
          "base_uri": "https://localhost:8080/"
        },
        "id": "P8q7F6r32ENU",
        "outputId": "586ae134-e268-471f-931b-525aae6d2878"
      },
      "execution_count": 18,
      "outputs": [
        {
          "output_type": "stream",
          "name": "stdout",
          "text": [
            "[1, 1, 1, 2, 3, 3, 3, 12]\n"
          ]
        }
      ]
    },
    {
      "cell_type": "markdown",
      "source": [
        "**13. Print the sentence backwards, but keep words in the correct order**"
      ],
      "metadata": {
        "id": "qC4ZbLapsvgc"
      }
    },
    {
      "cell_type": "code",
      "source": [
        "def backwordSentence(myStr):\n",
        "  s = myStr.split()\n",
        "  s.reverse()\n",
        "  sentence = \" \".join(s)\n",
        "  s2 = ''\n",
        "  for i in range(len(sentence)-1,-1,-1):\n",
        "      s2 = s2 + sentence[i]\n",
        "  return s2\n",
        "\n",
        "backwordSentence(\"Hello is\")"
      ],
      "metadata": {
        "colab": {
          "base_uri": "https://localhost:8080/",
          "height": 36
        },
        "id": "KbIuH2s6sybQ",
        "outputId": "eadaa5fd-5efd-4dcd-e510-5af61a849521"
      },
      "execution_count": 19,
      "outputs": [
        {
          "output_type": "execute_result",
          "data": {
            "text/plain": [
              "'olleH si'"
            ],
            "application/vnd.google.colaboratory.intrinsic+json": {
              "type": "string"
            }
          },
          "metadata": {},
          "execution_count": 19
        }
      ]
    },
    {
      "cell_type": "markdown",
      "source": [
        "**14. Total number of unique characters in a sentence(ignore spaces)**"
      ],
      "metadata": {
        "id": "BSw9_Divszia"
      }
    },
    {
      "cell_type": "code",
      "source": [
        "def noOfUniqueChar(sent):\n",
        "  uniq = []\n",
        "  for i in sent.lower():\n",
        "    if i not in uniq:\n",
        "      uniq.append(i)\n",
        "\n",
        "  return len(uniq)\n",
        "\n",
        "noOfUniqueChar(\"Uzair\")"
      ],
      "metadata": {
        "colab": {
          "base_uri": "https://localhost:8080/"
        },
        "id": "uhZ8iPf0uZN8",
        "outputId": "e372c6d8-b63e-42b0-d69f-3299ea283dfb"
      },
      "execution_count": 20,
      "outputs": [
        {
          "output_type": "execute_result",
          "data": {
            "text/plain": [
              "5"
            ]
          },
          "metadata": {},
          "execution_count": 20
        }
      ]
    },
    {
      "cell_type": "markdown",
      "source": [
        "**15.\tConvert Celsius to Fahrenheit and vice versa.**"
      ],
      "metadata": {
        "id": "8gTZLGlSFxIk"
      }
    },
    {
      "cell_type": "code",
      "source": [
        "def tempConversion():\n",
        "  tempType = input(\"Enter the converstion, F for Fahrenheit and C for Celsius: \")\n",
        "  while tempType.lower() != 'c' and tempType.lower() != 'f':\n",
        "    print(\"Please Type Correct!\")\n",
        "    tempType = input(\"Enter F for Fahrenheit and C for Celsius: \")\n",
        "\n",
        "  # F → C: (F - 32) * 5/9\n",
        "  # C → F: (C * 9/5) + 32\n",
        "\n",
        "  if tempType.lower() == 'c':\n",
        "    temp = input(\"Please Enter Temperature in Fahrenheit (°F): \")\n",
        "    cel = (int(temp) - 32) * 5/9\n",
        "    print(f\"Celsius (°C): {cel}°C\")\n",
        "  elif tempType.lower() == 'f':\n",
        "    temp = input(\"Please Enter Temperature in Celsius (°C): \")\n",
        "    fahr = (int(temp) * 9/5) + 32\n",
        "    print(f\"Fahrenheit (°F): {fahr}°F\")\n",
        "\n",
        "\n",
        "tempConversion()\n"
      ],
      "metadata": {
        "colab": {
          "base_uri": "https://localhost:8080/"
        },
        "id": "LvqDJ9yZvbE2",
        "outputId": "2f9bfdc6-0a49-40ad-9f6b-cbdc4b8471c9"
      },
      "execution_count": 21,
      "outputs": [
        {
          "output_type": "stream",
          "name": "stdout",
          "text": [
            "Enter the converstion, F for Fahrenheit and C for Celsius: c\n",
            "Please Enter Temperature in Fahrenheit (°F): 104\n",
            "Celsius (°C): 40.0°C\n"
          ]
        }
      ]
    },
    {
      "cell_type": "markdown",
      "source": [
        "**16.\tSwap two numbers without using a third variable.**"
      ],
      "metadata": {
        "id": "iOPWaL5qKFiX"
      }
    },
    {
      "cell_type": "code",
      "source": [
        "\n",
        "def swappWithoutOtherVariable(firstName, lastName):\n",
        "  firstName = firstName + lastName #AbubakarAnsari 14-6\n",
        "  lastName = firstName[0:len(firstName)-len(lastName)]\n",
        "  firstName = firstName[len(lastName):]\n",
        "  print(f\"Last Name: {lastName}\")\n",
        "  print(f\"First Name: {firstName}\")\n",
        "\n",
        "firstName = \"Abubakar\"\n",
        "lastName = \"Ansari\"\n",
        "swappWithoutOtherVariable(\"Uzair\",\"Ansari\")\n",
        "swappWithoutOtherVariable(firstName,lastName)"
      ],
      "metadata": {
        "colab": {
          "base_uri": "https://localhost:8080/"
        },
        "id": "rXfR2fTLGlCp",
        "outputId": "49f8532e-ee75-476b-9ee6-d7a8c93046a5"
      },
      "execution_count": 22,
      "outputs": [
        {
          "output_type": "stream",
          "name": "stdout",
          "text": [
            "Last Name: Uzair\n",
            "First Name: Ansari\n",
            "Last Name: Abubakar\n",
            "First Name: Ansari\n"
          ]
        }
      ]
    },
    {
      "cell_type": "markdown",
      "source": [
        "**17.\tFind the sum of digits of a number.**"
      ],
      "metadata": {
        "id": "FEJYsxSCO_nV"
      }
    },
    {
      "cell_type": "code",
      "source": [
        "def sumOfDigits():\n",
        "  num = input(\"Enter a Number: \")\n",
        "  sum = 0\n",
        "  for i in range(len(num)):\n",
        "    sum += int(num[i])\n",
        "\n",
        "  return sum\n",
        "\n",
        "sumOfDigits()"
      ],
      "metadata": {
        "colab": {
          "base_uri": "https://localhost:8080/"
        },
        "id": "nQ-0g_WCMSw6",
        "outputId": "95447745-37a3-4a62-f504-59b12f9d0fd8"
      },
      "execution_count": 23,
      "outputs": [
        {
          "name": "stdout",
          "output_type": "stream",
          "text": [
            "Enter a Number: \n"
          ]
        },
        {
          "output_type": "execute_result",
          "data": {
            "text/plain": [
              "0"
            ]
          },
          "metadata": {},
          "execution_count": 23
        }
      ]
    },
    {
      "cell_type": "markdown",
      "source": [
        "**18.\tPrint all even and odd numbers from a list separately.**"
      ],
      "metadata": {
        "id": "IEthIkPVPyxG"
      }
    },
    {
      "cell_type": "code",
      "source": [
        "def sepEvenOdd(arr):\n",
        "  even = []\n",
        "  odd = []\n",
        "  for i in range(len(arr)):\n",
        "    if arr[i] == 1:\n",
        "      odd.append(arr[i])\n",
        "    elif arr[i] % 2 == 0:\n",
        "      even.append(arr[i])\n",
        "    else:\n",
        "      odd.append(arr[i])\n",
        "  print(f\"Even Collection in List: {even}\")\n",
        "  print(f\"Odd Collection in List: {odd}\")\n",
        "\n",
        "sepEvenOdd([1,2,3,4,5,6,7,8,9])"
      ],
      "metadata": {
        "colab": {
          "base_uri": "https://localhost:8080/"
        },
        "id": "Eb97s8eHPd4z",
        "outputId": "647500a9-6163-4159-94fd-db5e619d0ed1"
      },
      "execution_count": 24,
      "outputs": [
        {
          "output_type": "stream",
          "name": "stdout",
          "text": [
            "Even Collection in List: [2, 4, 6, 8]\n",
            "Odd Collection in List: [1, 3, 5, 7, 9]\n"
          ]
        }
      ]
    },
    {
      "cell_type": "markdown",
      "source": [
        "**19.\tFind all numbers divisible by 7 and 5 between 1500 and 2700.**"
      ],
      "metadata": {
        "id": "LSuXlrEQiPpR"
      }
    },
    {
      "cell_type": "code",
      "source": [
        "def numberDivisble(start, end):\n",
        "  listOfNum = []\n",
        "  for i in range(start, end+1):\n",
        "    if i % 7 == 0 and i % 5 == 0:\n",
        "      listOfNum.append(i)\n",
        "\n",
        "  return listOfNum\n",
        "\n",
        "numberDivisble(1500,2700)\n"
      ],
      "metadata": {
        "id": "Z3qMJGmcQYUi",
        "colab": {
          "base_uri": "https://localhost:8080/"
        },
        "outputId": "bfea4d03-d79b-42a6-8973-098c93df8b61"
      },
      "execution_count": 25,
      "outputs": [
        {
          "output_type": "execute_result",
          "data": {
            "text/plain": [
              "[1505,\n",
              " 1540,\n",
              " 1575,\n",
              " 1610,\n",
              " 1645,\n",
              " 1680,\n",
              " 1715,\n",
              " 1750,\n",
              " 1785,\n",
              " 1820,\n",
              " 1855,\n",
              " 1890,\n",
              " 1925,\n",
              " 1960,\n",
              " 1995,\n",
              " 2030,\n",
              " 2065,\n",
              " 2100,\n",
              " 2135,\n",
              " 2170,\n",
              " 2205,\n",
              " 2240,\n",
              " 2275,\n",
              " 2310,\n",
              " 2345,\n",
              " 2380,\n",
              " 2415,\n",
              " 2450,\n",
              " 2485,\n",
              " 2520,\n",
              " 2555,\n",
              " 2590,\n",
              " 2625,\n",
              " 2660,\n",
              " 2695]"
            ]
          },
          "metadata": {},
          "execution_count": 25
        }
      ]
    },
    {
      "cell_type": "markdown",
      "source": [
        "**20.\tCreate a dictionary from two lists.**"
      ],
      "metadata": {
        "id": "eXyASEUrjZCI"
      }
    },
    {
      "cell_type": "code",
      "source": [
        "def dicCreation (list1, list2):\n",
        "  myDict = dict()\n",
        "  for i in range(len(list1)):\n",
        "    myDict[list1[i]] = list2[i]\n",
        "  return myDict\n",
        "\n",
        "dicCreation([\"Uzair\",\"Umair\",\"Bilal\"],[24,22,17])"
      ],
      "metadata": {
        "colab": {
          "base_uri": "https://localhost:8080/"
        },
        "id": "_WFqXNUKit0e",
        "outputId": "ccd3bf7b-e7bc-47db-c78e-d25706c1a5b7"
      },
      "execution_count": 26,
      "outputs": [
        {
          "output_type": "execute_result",
          "data": {
            "text/plain": [
              "{'Uzair': 24, 'Umair': 22, 'Bilal': 17}"
            ]
          },
          "metadata": {},
          "execution_count": 26
        }
      ]
    },
    {
      "cell_type": "markdown",
      "source": [
        "**21.\tRemove all punctuation from a string.**"
      ],
      "metadata": {
        "id": "-6Ua9U51kc4a"
      }
    },
    {
      "cell_type": "code",
      "source": [
        "def removePunctuations(myStr):\n",
        "  punctuations = \"!()-[]{};:'\\\"\\\\,<>./?@#$%^&*_~\"\n",
        "  cleanText = \"\"\n",
        "  for i in myStr:\n",
        "    if i not in punctuations:\n",
        "      cleanText+=i\n",
        "  return cleanText\n",
        "\n",
        "removePunctuations(\"!()-[]{};:'\\\"\\\\,<>./?@#$%^&*_~Uzair\")\n"
      ],
      "metadata": {
        "colab": {
          "base_uri": "https://localhost:8080/",
          "height": 36
        },
        "id": "Wtg3BZQakCQ3",
        "outputId": "fcc276c7-ec82-4b91-e1c1-a90cff8b6e9b"
      },
      "execution_count": 27,
      "outputs": [
        {
          "output_type": "execute_result",
          "data": {
            "text/plain": [
              "'Uzair'"
            ],
            "application/vnd.google.colaboratory.intrinsic+json": {
              "type": "string"
            }
          },
          "metadata": {},
          "execution_count": 27
        }
      ]
    },
    {
      "cell_type": "markdown",
      "source": [
        "**22.\tFind the common elements between two lists.**"
      ],
      "metadata": {
        "id": "YFe1SL8OlNco"
      }
    },
    {
      "cell_type": "code",
      "source": [
        "def findCommons(list1, list2):\n",
        "  commanList = []\n",
        "  for i in range(len(list1)):\n",
        "    for j in range(len(list2)):\n",
        "      if list1[i] == list2[j]:\n",
        "       if list1[i] not in commanList:\n",
        "         commanList.append(list1[i])\n",
        "      else:\n",
        "        pass\n",
        "  return commanList\n",
        "\n",
        "findCommons([1,3,3,2,5,4],[4,5,5,2])"
      ],
      "metadata": {
        "colab": {
          "base_uri": "https://localhost:8080/"
        },
        "id": "CfKp8aeelE2p",
        "outputId": "c0cd5280-c157-4fad-b42b-635029106b8c"
      },
      "execution_count": 28,
      "outputs": [
        {
          "output_type": "execute_result",
          "data": {
            "text/plain": [
              "[2, 5, 4]"
            ]
          },
          "metadata": {},
          "execution_count": 28
        }
      ]
    },
    {
      "cell_type": "markdown",
      "source": [
        "**23.\tCalculate the area of a circle given its radius.**"
      ],
      "metadata": {
        "id": "vALStggiIbLf"
      }
    },
    {
      "cell_type": "code",
      "source": [
        "import math\n",
        "def radiusOfCircle (radius):\n",
        "  # area = πr2 & pi = 3.142\n",
        "  area = math.pi * (radius**2)\n",
        "  return round(area,2)\n",
        "\n",
        "radiusOfCircle(4)"
      ],
      "metadata": {
        "colab": {
          "base_uri": "https://localhost:8080/"
        },
        "id": "ki28T_ySlx3T",
        "outputId": "31d347d2-42d7-4648-f2b1-406489ab176e"
      },
      "execution_count": 29,
      "outputs": [
        {
          "output_type": "execute_result",
          "data": {
            "text/plain": [
              "50.27"
            ]
          },
          "metadata": {},
          "execution_count": 29
        }
      ]
    },
    {
      "cell_type": "markdown",
      "source": [
        "**24.\tCheck if a number is an Armstrong number.**"
      ],
      "metadata": {
        "id": "0ZGOBu4GM7xs"
      }
    },
    {
      "cell_type": "code",
      "source": [
        "def checkArmstrong(num):\n",
        "  num = str(num)\n",
        "  armNum = 0\n",
        "  for i in str(num):\n",
        "    armNum += int(i)**len(num)\n",
        "\n",
        "  if armNum == int(num):\n",
        "    print(f\"{num} is a Armstrong\") #153,1634,370,371\n",
        "  else:\n",
        "    print(f\"{num} is not an Armstrong number\")\n",
        "\n",
        "\n",
        "checkArmstrong(1634)"
      ],
      "metadata": {
        "colab": {
          "base_uri": "https://localhost:8080/"
        },
        "id": "BHzz1CP9MmnE",
        "outputId": "64fe31d0-16e7-4b66-8704-9deb95e29992"
      },
      "execution_count": 30,
      "outputs": [
        {
          "output_type": "stream",
          "name": "stdout",
          "text": [
            "1634 is a Armstrong\n"
          ]
        }
      ]
    },
    {
      "cell_type": "markdown",
      "source": [
        "**25.\tCount occurrences of a word in a sentence.**"
      ],
      "metadata": {
        "id": "bpm1LKmXSHqE"
      }
    },
    {
      "cell_type": "code",
      "source": [
        "def occuranceOfWord(word,sent):\n",
        "  newSent = sent.lower().split()\n",
        "  c = 0\n",
        "  for w in newSent:\n",
        "    if word.lower() == w:\n",
        "      c=c+1\n",
        "    else:\n",
        "      c=c\n",
        "  return c\n",
        "occuranceOfWord(\"python\", \"Python is easy to learn and Python is powerful\")"
      ],
      "metadata": {
        "colab": {
          "base_uri": "https://localhost:8080/"
        },
        "id": "eE6WYDarNXr1",
        "outputId": "1bc8479a-1a52-4de5-f35e-20f38ecbb350"
      },
      "execution_count": 31,
      "outputs": [
        {
          "output_type": "execute_result",
          "data": {
            "text/plain": [
              "2"
            ]
          },
          "metadata": {},
          "execution_count": 31
        }
      ]
    },
    {
      "cell_type": "markdown",
      "source": [
        "**26.\tFind the smallest missing number in a sorted list.**"
      ],
      "metadata": {
        "id": "yz_9mqywSL73"
      }
    },
    {
      "cell_type": "code",
      "source": [
        "def smallestMissingNum(sortArr):\n",
        "  start = sortArr[0]\n",
        "  for i in range(len(sortArr)):\n",
        "    expected = start +i\n",
        "    if sortArr[i] != expected:\n",
        "          return expected\n",
        "  return sortArr[-1] + 1\n",
        "\n",
        "smallestMissingNum([10, 11, 13 ,14, 15, 16])"
      ],
      "metadata": {
        "colab": {
          "base_uri": "https://localhost:8080/"
        },
        "id": "YYHyo7dkP9gT",
        "outputId": "50f2d939-1b3c-4043-a365-f2a19a74dbfa"
      },
      "execution_count": 32,
      "outputs": [
        {
          "output_type": "execute_result",
          "data": {
            "text/plain": [
              "12"
            ]
          },
          "metadata": {},
          "execution_count": 32
        }
      ]
    },
    {
      "cell_type": "markdown",
      "source": [
        "**27.\tPrint all substrings of a given string.**"
      ],
      "metadata": {
        "id": "g2Y42uBBVCgL"
      }
    },
    {
      "cell_type": "code",
      "source": [
        "def subString(myStr):\n",
        "  for i in range(len(myStr)):\n",
        "    sub = \"\"\n",
        "    for j in range(i,len(myStr)):\n",
        "      sub += myStr[j]\n",
        "      print(sub)\n",
        "\n",
        "subString('Abubakar')"
      ],
      "metadata": {
        "colab": {
          "base_uri": "https://localhost:8080/"
        },
        "id": "SQLmLXhXSpTE",
        "outputId": "ac2d35d5-9501-49a5-cbcd-36c4a352630c"
      },
      "execution_count": 33,
      "outputs": [
        {
          "output_type": "stream",
          "name": "stdout",
          "text": [
            "A\n",
            "Ab\n",
            "Abu\n",
            "Abub\n",
            "Abuba\n",
            "Abubak\n",
            "Abubaka\n",
            "Abubakar\n",
            "b\n",
            "bu\n",
            "bub\n",
            "buba\n",
            "bubak\n",
            "bubaka\n",
            "bubakar\n",
            "u\n",
            "ub\n",
            "uba\n",
            "ubak\n",
            "ubaka\n",
            "ubakar\n",
            "b\n",
            "ba\n",
            "bak\n",
            "baka\n",
            "bakar\n",
            "a\n",
            "ak\n",
            "aka\n",
            "akar\n",
            "k\n",
            "ka\n",
            "kar\n",
            "a\n",
            "ar\n",
            "r\n"
          ]
        }
      ]
    },
    {
      "cell_type": "markdown",
      "source": [
        "# **MEDIUM LEVEL (25 QUESTIONS)**"
      ],
      "metadata": {
        "id": "IWemJ4vQYpDO"
      }
    },
    {
      "cell_type": "markdown",
      "source": [
        "**28.\tImplement a program to find the GCD and LCM of two numbers.**"
      ],
      "metadata": {
        "id": "owqIuJ13Yvlx"
      }
    },
    {
      "cell_type": "code",
      "source": [
        "def GCD(num1,num2):\n",
        "  listNum1 = []\n",
        "  listNum2 = []\n",
        "  for i in range(1,num1+1):\n",
        "    if num1 % i == 0:\n",
        "      listNum1.append(i)\n",
        "  for i in range(1,num2+1):\n",
        "    if num2 % i == 0:\n",
        "      listNum2.append(i)\n",
        "\n",
        "  #approach 1\n",
        "  # for i in range(len(listNum1)):\n",
        "  #   if listNum1[i] in listNum2:\n",
        "  #     comList.append(listNum1[i])\n",
        "\n",
        "  # approach 2\n",
        "  # for i in range(len(listNum1)):\n",
        "  #   for j in range(len(listNum2)):\n",
        "  #     if listNum1[i] == listNum2[j]:\n",
        "  #       if listNum1[i] not in comList:\n",
        "  #         comList.append(listNum1[i])\n",
        "  #       else:\n",
        "  #         pass\n",
        "\n",
        "  # as i already make a function by using approach 2 in problem 22 (easy) which returning\n",
        "  # the list of common in 2 different list so i am going to use that function\n",
        "  # becuase function are reusable that why i made the function so now i am going to use my functions findCommons\n",
        "\n",
        "  common = findCommons(listNum1,listNum2)\n",
        "  return max(common)\n",
        "\n",
        "def LCM(num1,num2):\n",
        "  return (num1 * num2) // GCD(num1,num2)\n",
        "\n",
        "LCM(12,15)"
      ],
      "metadata": {
        "colab": {
          "base_uri": "https://localhost:8080/"
        },
        "id": "JRHDg70EVO7X",
        "outputId": "da4e449e-c32d-4395-b150-36bc3b1e97a5"
      },
      "execution_count": 34,
      "outputs": [
        {
          "output_type": "execute_result",
          "data": {
            "text/plain": [
              "60"
            ]
          },
          "metadata": {},
          "execution_count": 34
        }
      ]
    },
    {
      "cell_type": "code",
      "source": [
        "# approach # 02\n",
        "def GCD2(num1,num2):\n",
        "  list1 = [i for i in range(1, num1+1) if num1 % i == 0]\n",
        "  list2 = [i for i in range(1, num2+1) if num2 % i == 0]\n",
        "  common2 = list(set(list1) & set(list2))\n",
        "  return max(common2)\n",
        "\n",
        "def LCM2(num1,num2):\n",
        "  return (num1 * num2) // GCD2(num1,num2)\n",
        "\n",
        "LCM2(12,15)\n"
      ],
      "metadata": {
        "colab": {
          "base_uri": "https://localhost:8080/"
        },
        "id": "2i4yUgrCZzJ6",
        "outputId": "c96ff5c8-90cd-4771-a361-1013ee700633"
      },
      "execution_count": 35,
      "outputs": [
        {
          "output_type": "execute_result",
          "data": {
            "text/plain": [
              "60"
            ]
          },
          "metadata": {},
          "execution_count": 35
        }
      ]
    },
    {
      "cell_type": "markdown",
      "source": [
        "**29.\tFind all pairs in an array whose sum is equal to a target number.**"
      ],
      "metadata": {
        "id": "FQTysRMWftKx"
      }
    },
    {
      "cell_type": "code",
      "source": [
        "def getSumPairs(target, listOfNum):\n",
        "  sumPairs = []\n",
        "  for i in range (len(listOfNum)):\n",
        "    for j in range(i+1,len(listOfNum)):\n",
        "      if listOfNum[i] + listOfNum[j] == target:\n",
        "        sumPairs.append((listOfNum[i],listOfNum[j]))\n",
        "\n",
        "  return sumPairs\n",
        "\n",
        "\n",
        "getSumPairs(7,[1,2,3,4])"
      ],
      "metadata": {
        "colab": {
          "base_uri": "https://localhost:8080/"
        },
        "id": "sdpO1fkUeH-4",
        "outputId": "64253ac2-54ab-47d0-cc5d-8c86e1d97b45"
      },
      "execution_count": 36,
      "outputs": [
        {
          "output_type": "execute_result",
          "data": {
            "text/plain": [
              "[(3, 4)]"
            ]
          },
          "metadata": {},
          "execution_count": 36
        }
      ]
    },
    {
      "cell_type": "markdown",
      "source": [
        "**30.\tRemove all duplicate characters from a string.**"
      ],
      "metadata": {
        "id": "vBLY-YtRiASY"
      }
    },
    {
      "cell_type": "code",
      "source": [
        "def removeDuplicate(myStr):\n",
        "  rem = \"\"\n",
        "  for i in myStr.lower():\n",
        "    if i not in rem:\n",
        "      rem += i\n",
        "  return rem\n",
        "\n",
        "removeDuplicate(\"PrograMming\")"
      ],
      "metadata": {
        "colab": {
          "base_uri": "https://localhost:8080/",
          "height": 36
        },
        "id": "ck4OzQg0gd6X",
        "outputId": "6dfab556-5445-4bdb-9120-81afbc0f0dde"
      },
      "execution_count": 37,
      "outputs": [
        {
          "output_type": "execute_result",
          "data": {
            "text/plain": [
              "'progamin'"
            ],
            "application/vnd.google.colaboratory.intrinsic+json": {
              "type": "string"
            }
          },
          "metadata": {},
          "execution_count": 37
        }
      ]
    },
    {
      "cell_type": "markdown",
      "source": [
        "**31.\tImplement a function to flatten a nested list.**"
      ],
      "metadata": {
        "id": "_Pht0eKDjZjZ"
      }
    },
    {
      "cell_type": "code",
      "source": [
        "def myFlatten(yourList):\n",
        "  myFlat = []\n",
        "  for i in yourList:\n",
        "    if isinstance(i,list):\n",
        "        myFlat.extend(myFlatten(i))\n",
        "    else:\n",
        "      myFlat.append(i)\n",
        "  return myFlat\n",
        "\n",
        "myFlatten([[1,2],2,3,4,5,[6,4,[1,2,[11,14]]]])\n",
        "\n"
      ],
      "metadata": {
        "colab": {
          "base_uri": "https://localhost:8080/"
        },
        "id": "3wpjyokLidm9",
        "outputId": "b3493a61-9bcc-4e17-f390-5c5db722ce56"
      },
      "execution_count": 38,
      "outputs": [
        {
          "output_type": "execute_result",
          "data": {
            "text/plain": [
              "[1, 2, 2, 3, 4, 5, 6, 4, 1, 2, 11, 14]"
            ]
          },
          "metadata": {},
          "execution_count": 38
        }
      ]
    },
    {
      "cell_type": "markdown",
      "source": [
        "**Tricky Follow Up Task: Write a recursive function that reverses a string without using loops or slicing.**"
      ],
      "metadata": {
        "id": "N6YggQPZFoJ7"
      }
    },
    {
      "cell_type": "code",
      "source": [
        "def recRevStr(myStr):\n",
        "    if len(myStr) <= 1:       # Base case\n",
        "        return myStr\n",
        "    return myStr[-1] + recRevStr(myStr[:-1])  # Last char + reversed rest\n",
        "\n",
        "# Test\n",
        "print(recRevStr(\"Python\"))  # Output: \"nohtyP\""
      ],
      "metadata": {
        "colab": {
          "base_uri": "https://localhost:8080/"
        },
        "id": "ebhKj9vDkQra",
        "outputId": "7fd5a3d6-44c3-404a-d2eb-4818f1b170c5"
      },
      "execution_count": 39,
      "outputs": [
        {
          "output_type": "stream",
          "name": "stdout",
          "text": [
            "nohtyP\n"
          ]
        }
      ]
    },
    {
      "cell_type": "markdown",
      "source": [
        "**32.\tCreate a function to count words in a text file.**"
      ],
      "metadata": {
        "id": "ls5Pv6MiHi7e"
      }
    },
    {
      "cell_type": "code",
      "source": [
        "def wordCountInFile(path):\n",
        "    with open(path,\"r\") as file:\n",
        "      content = file.read()\n",
        "    return len(content.split())\n",
        "wordCountInFile(\"forRead.txt\")\n",
        ""
      ],
      "metadata": {
        "colab": {
          "base_uri": "https://localhost:8080/"
        },
        "id": "LBRHdhwwGFdT",
        "outputId": "85abf5e6-ec16-4be9-c534-d27951bd97ee"
      },
      "execution_count": 42,
      "outputs": [
        {
          "output_type": "execute_result",
          "data": {
            "text/plain": [
              "23"
            ]
          },
          "metadata": {},
          "execution_count": 42
        }
      ]
    },
    {
      "cell_type": "markdown",
      "source": [
        "**33.\tFind the intersection and union of two sets without using built-in methods.**"
      ],
      "metadata": {
        "id": "P6vWFm76JWKA"
      }
    },
    {
      "cell_type": "code",
      "source": [
        "def intersectionAndUnion(set1, set2):\n",
        "    union = set1 | set2            # Union using | operator\n",
        "    intersect = set1 & set2        # Intersection using & operator\n",
        "    print(f\"Union: {union}\")\n",
        "    print(f\"Intersection: {intersect}\")\n",
        "\n",
        "mySet = {1, 2, 3, 2, 6, 4, 5}\n",
        "mySet1 = {1, 2, 7, 8, 6, 4, 5}\n",
        "intersectionAndUnion(mySet, mySet1)"
      ],
      "metadata": {
        "colab": {
          "base_uri": "https://localhost:8080/"
        },
        "id": "PIhwLq0YLhXc",
        "outputId": "59c457e6-bf9f-48e1-accd-3a9a15d9c94e"
      },
      "execution_count": 43,
      "outputs": [
        {
          "output_type": "stream",
          "name": "stdout",
          "text": [
            "Union: {1, 2, 3, 4, 5, 6, 7, 8}\n",
            "Intersection: {1, 2, 4, 5, 6}\n"
          ]
        }
      ]
    },
    {
      "cell_type": "code",
      "source": [
        "# approach2\n",
        "def intersectionAndUnion2(set1, set2):\n",
        "  union = {*set1,*set2}\n",
        "  intersect = set()\n",
        "  for i in set1:\n",
        "    for j in set2:\n",
        "      if i==j:\n",
        "        intersect.add(i)\n",
        "  print(f\"Union: {union}\")\n",
        "  print(f\"Intersection: {intersect}\")\n",
        "\n",
        "\n",
        "mySet = {1, 2, 3,2,6, 4, 5}\n",
        "mySet1 = {1, 2,7,8,6, 4, 5}\n",
        "intersectionAndUnion(mySet,mySet1)\n"
      ],
      "metadata": {
        "colab": {
          "base_uri": "https://localhost:8080/"
        },
        "id": "O1bKpyzOH5-n",
        "outputId": "cc877372-df9f-4483-9b88-261b31c55d9d"
      },
      "execution_count": 44,
      "outputs": [
        {
          "output_type": "stream",
          "name": "stdout",
          "text": [
            "Union: {1, 2, 3, 4, 5, 6, 7, 8}\n",
            "Intersection: {1, 2, 4, 5, 6}\n"
          ]
        }
      ]
    },
    {
      "cell_type": "markdown",
      "source": [
        "**35.\tWrite a Python class for a bank account with deposit and withdraw methods.**"
      ],
      "metadata": {
        "id": "t050vgcOVMmC"
      }
    },
    {
      "cell_type": "code",
      "source": [
        "class BankAccount:\n",
        "  def __init__(self,owner,balance):\n",
        "    self.owner = owner\n",
        "    self.balance = balance\n",
        "  def getBalance(self):\n",
        "     print(f\"{self.owner} current Balance is {self.balance}\")\n",
        "\n",
        "  def deposit(self, amount):\n",
        "    if amount > 0:\n",
        "      self.balance += amount\n",
        "      print(f\"Amount Deposited: \", amount)\n",
        "    else:\n",
        "      print(\"Insufficient amount or Deposit amount must be positive.\")\n",
        "  def withDraw(self, amount):\n",
        "    if amount > self.balance:\n",
        "      print(\"Insufficient balance\")\n",
        "    elif amount < 0:\n",
        "      print(\"Amount Must be more than 0.\")\n",
        "    else:\n",
        "      self.balance -= amount\n",
        "      print(f\"Amount Withdrawal: \", amount)\n",
        "\n",
        "\n",
        "\n",
        "account = BankAccount(\"Abu Bakar\",1000)\n",
        "account1 = BankAccount(\"Uzair\",500)\n",
        "\n",
        "\n",
        "print(account.owner)\n",
        "print(account1.owner)\n",
        "account.getBalance()\n",
        "account.withDraw(199)\n",
        "account.getBalance()\n",
        "account1.getBalance()"
      ],
      "metadata": {
        "colab": {
          "base_uri": "https://localhost:8080/"
        },
        "id": "JK4R_FmHJr7c",
        "outputId": "0030c07c-c59d-416f-b8cf-1c4a8efd6a4d"
      },
      "execution_count": 45,
      "outputs": [
        {
          "output_type": "stream",
          "name": "stdout",
          "text": [
            "Abu Bakar\n",
            "Uzair\n",
            "Abu Bakar current Balance is 1000\n",
            "Amount Withdrawal:  199\n",
            "Abu Bakar current Balance is 801\n",
            "Uzair current Balance is 500\n"
          ]
        }
      ]
    },
    {
      "cell_type": "code",
      "source": [
        "student = [\n",
        "    {\"name\": \"Sara\", \"age\": 20},\n",
        "    {\"name\": \"Ali\", \"age\": 22},\n",
        "    {\"name\": \"John\", \"age\": 25}\n",
        "]\n",
        "\n"
      ],
      "metadata": {
        "id": "rCK_cfuPXj3e"
      },
      "execution_count": 46,
      "outputs": []
    },
    {
      "cell_type": "code",
      "source": [],
      "metadata": {
        "id": "d12fX2yqmlxO"
      },
      "execution_count": 46,
      "outputs": []
    }
  ]
}
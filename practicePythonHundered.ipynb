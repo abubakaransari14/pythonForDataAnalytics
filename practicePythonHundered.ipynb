{
  "nbformat": 4,
  "nbformat_minor": 0,
  "metadata": {
    "colab": {
      "provenance": []
    },
    "kernelspec": {
      "name": "python3",
      "display_name": "Python 3"
    },
    "language_info": {
      "name": "python"
    }
  },
  "cells": [
    {
      "cell_type": "markdown",
      "source": [
        "# **15th October, 2025**"
      ],
      "metadata": {
        "id": "3_RKCfakBQKE"
      }
    },
    {
      "cell_type": "markdown",
      "source": [
        "**1. Write a program to find the factorial of a number using recursion.**"
      ],
      "metadata": {
        "id": "3pw8RpaFBh5y"
      }
    },
    {
      "cell_type": "code",
      "execution_count": 1,
      "metadata": {
        "colab": {
          "base_uri": "https://localhost:8080/"
        },
        "id": "ALtaufLqBI8W",
        "outputId": "4b97bb38-ea62-4a62-98b1-5cea20e580f0"
      },
      "outputs": [
        {
          "output_type": "execute_result",
          "data": {
            "text/plain": [
              "120"
            ]
          },
          "metadata": {},
          "execution_count": 1
        }
      ],
      "source": [
        "def factorial(num):\n",
        "  if num == 0 or num == 1:\n",
        "    return 1\n",
        "  elif num > 1:\n",
        "    return num * factorial(num-1)\n",
        "  else:\n",
        "    print(\"Please Enter a valid number\")\n",
        "\n",
        "factorial(5)"
      ]
    },
    {
      "cell_type": "code",
      "source": [
        "# now without recursion\n",
        "def factorial2(num2):\n",
        "  if num2 == 0 or num2 == 1:\n",
        "    return 1\n",
        "  fact = 1\n",
        "  while num2 > 1:\n",
        "\n",
        "    fact *= num2\n",
        "\n",
        "    num2 = num2-1\n",
        "  return fact\n",
        "\n",
        "factorial2(5)\n"
      ],
      "metadata": {
        "colab": {
          "base_uri": "https://localhost:8080/"
        },
        "id": "cfnN01StCvfQ",
        "outputId": "b038b31a-18e3-46ed-9f1a-3169bd13cc0d"
      },
      "execution_count": 2,
      "outputs": [
        {
          "output_type": "execute_result",
          "data": {
            "text/plain": [
              "120"
            ]
          },
          "metadata": {},
          "execution_count": 2
        }
      ]
    },
    {
      "cell_type": "markdown",
      "source": [
        "**2.\tPrint the Fibonacci sequence up to n terms.**"
      ],
      "metadata": {
        "id": "nxd3mKPyOkEI"
      }
    },
    {
      "cell_type": "code",
      "source": [
        "def fibonacci(n):\n",
        "    seq = [0, 1]\n",
        "    for i in range(2, n):\n",
        "      seq.append(seq[-1] + seq[-2])\n",
        "    return seq\n",
        "\n",
        "fibonacci(6)"
      ],
      "metadata": {
        "colab": {
          "base_uri": "https://localhost:8080/"
        },
        "id": "S_3FbHqIEVcE",
        "outputId": "d86c3cc2-fbf7-478b-a343-bd5b50c3a551"
      },
      "execution_count": 3,
      "outputs": [
        {
          "output_type": "execute_result",
          "data": {
            "text/plain": [
              "[0, 1, 1, 2, 3, 5]"
            ]
          },
          "metadata": {},
          "execution_count": 3
        }
      ]
    },
    {
      "cell_type": "code",
      "source": [
        "def fibonacci2(n2):\n",
        "  a = 0\n",
        "  b = 1\n",
        "  for i in range(n2):\n",
        "    print(a, end=\" \")\n",
        "    temp = a\n",
        "    a = b\n",
        "    b = temp+b\n",
        "\n",
        "fibonacci2(6)"
      ],
      "metadata": {
        "colab": {
          "base_uri": "https://localhost:8080/"
        },
        "id": "0myQTcEXOmu0",
        "outputId": "b33386f3-8ebe-42fa-bcb5-549aae6579ee"
      },
      "execution_count": 4,
      "outputs": [
        {
          "output_type": "stream",
          "name": "stdout",
          "text": [
            "0 1 1 2 3 5 "
          ]
        }
      ]
    },
    {
      "cell_type": "markdown",
      "source": [
        "**3.\tCheck if a number is prime or not.**"
      ],
      "metadata": {
        "id": "aeLvmLAgSrHq"
      }
    },
    {
      "cell_type": "code",
      "source": [
        "def primeCheck(n):\n",
        "  c = 0\n",
        "  if n == 0 or n == 1:\n",
        "    print(\"Not a prime Number\")\n",
        "\n",
        "  else:\n",
        "    for i in range(1,n+1):\n",
        "      if n % i == 0:\n",
        "        c += 1\n",
        "      else:\n",
        "        c = c\n",
        "\n",
        "  if c == 2:\n",
        "    print(\"Prime Number\")\n",
        "  else:\n",
        "    print(\"Not Prime\")\n",
        "\n",
        "primeCheck(11)"
      ],
      "metadata": {
        "colab": {
          "base_uri": "https://localhost:8080/"
        },
        "id": "tItDcMMVQjTv",
        "outputId": "a08903d1-527d-4381-bf6f-45223fbec999"
      },
      "execution_count": 5,
      "outputs": [
        {
          "output_type": "stream",
          "name": "stdout",
          "text": [
            "Prime Number\n"
          ]
        }
      ]
    },
    {
      "cell_type": "markdown",
      "source": [
        "**4.\tReverse a string without using slicing.**"
      ],
      "metadata": {
        "id": "eu2KxPAZVot_"
      }
    },
    {
      "cell_type": "code",
      "source": [
        "def reverseString(myString):\n",
        "  revStr = ''\n",
        "  for i in range(len(myString)-1,-1,-1):\n",
        "    revStr += myString[i]\n",
        "  return revStr\n",
        "reverseString(\"Abubakar\")"
      ],
      "metadata": {
        "colab": {
          "base_uri": "https://localhost:8080/",
          "height": 36
        },
        "id": "Xft8vrl2TJmX",
        "outputId": "f70c9fff-112b-4c0d-f7c3-780766821e7b"
      },
      "execution_count": 6,
      "outputs": [
        {
          "output_type": "execute_result",
          "data": {
            "text/plain": [
              "'rakabubA'"
            ],
            "application/vnd.google.colaboratory.intrinsic+json": {
              "type": "string"
            }
          },
          "metadata": {},
          "execution_count": 6
        }
      ]
    },
    {
      "cell_type": "code",
      "source": [
        "def reverseString2(myString2):\n",
        "  return \"\".join(reversed(myString2))\n",
        "\n",
        "reverseString2(\"Abubakar\")\n"
      ],
      "metadata": {
        "colab": {
          "base_uri": "https://localhost:8080/",
          "height": 36
        },
        "id": "BDb9CWiIWCCt",
        "outputId": "8f59e6be-8754-40fc-88e0-04854d6bcd1b"
      },
      "execution_count": 7,
      "outputs": [
        {
          "output_type": "execute_result",
          "data": {
            "text/plain": [
              "'rakabubA'"
            ],
            "application/vnd.google.colaboratory.intrinsic+json": {
              "type": "string"
            }
          },
          "metadata": {},
          "execution_count": 7
        }
      ]
    },
    {
      "cell_type": "markdown",
      "source": [
        "**5.\tFind the largest element in a list.**"
      ],
      "metadata": {
        "id": "kNFtRO5ZdgCX"
      }
    },
    {
      "cell_type": "code",
      "source": [
        "def largest(arr):\n",
        "  max = arr[0]\n",
        "  for i in range(len(arr)):\n",
        "    if arr[i] > max:\n",
        "      max = arr[i]\n",
        "  return max\n",
        "\n",
        "largest([11,2,3,4,44,7,8,9,44])"
      ],
      "metadata": {
        "colab": {
          "base_uri": "https://localhost:8080/"
        },
        "id": "dT4AIgQsXCgL",
        "outputId": "41c00fac-dca0-4cb5-e04a-3fb5d3c21d74"
      },
      "execution_count": 8,
      "outputs": [
        {
          "output_type": "execute_result",
          "data": {
            "text/plain": [
              "44"
            ]
          },
          "metadata": {},
          "execution_count": 8
        }
      ]
    },
    {
      "cell_type": "markdown",
      "source": [
        "**6.\tCount vowels and consonants in a string.**"
      ],
      "metadata": {
        "id": "5f0Gtjt5eEVr"
      }
    },
    {
      "cell_type": "code",
      "source": [
        "def countVowelConsonants(myStr):\n",
        "  vowel = 'aeiou'\n",
        "  vowelCount = 0\n",
        "  consCount = 0\n",
        "  for i in range(len(myStr)):\n",
        "    if myStr[i].lower() in vowel:\n",
        "      vowelCount +=1\n",
        "    else:\n",
        "      consCount +=1\n",
        "\n",
        "  return str(vowelCount) + ' vowels and ' + str(consCount) + ' consonants'\n",
        "\n",
        "countVowelConsonants('Uyair')"
      ],
      "metadata": {
        "colab": {
          "base_uri": "https://localhost:8080/",
          "height": 36
        },
        "id": "xpBOvK2rd3K-",
        "outputId": "f69e9bcf-cecf-466b-fcb7-837234863046"
      },
      "execution_count": 9,
      "outputs": [
        {
          "output_type": "execute_result",
          "data": {
            "text/plain": [
              "'3 vowels and 2 consonants'"
            ],
            "application/vnd.google.colaboratory.intrinsic+json": {
              "type": "string"
            }
          },
          "metadata": {},
          "execution_count": 9
        }
      ]
    },
    {
      "cell_type": "markdown",
      "source": [
        "**7.\tPrint multiplication table of any number.**"
      ],
      "metadata": {
        "id": "GdpDQ9JKnIes"
      }
    },
    {
      "cell_type": "code",
      "source": [
        "def multiplicationTable(n,start,end):\n",
        "  for i in range(start,end+1):\n",
        "    print(n , \" x \" ,i, \" = \" ,n*i)\n",
        "\n",
        "multiplicationTable(6,5,10)"
      ],
      "metadata": {
        "id": "sYDTUXuEeZfL",
        "colab": {
          "base_uri": "https://localhost:8080/"
        },
        "outputId": "34b3883b-c779-4712-86fc-a07f943c44ff"
      },
      "execution_count": 16,
      "outputs": [
        {
          "output_type": "stream",
          "name": "stdout",
          "text": [
            "6  x  5  =  30\n",
            "6  x  6  =  36\n",
            "6  x  7  =  42\n",
            "6  x  8  =  48\n",
            "6  x  9  =  54\n",
            "6  x  10  =  60\n"
          ]
        }
      ]
    },
    {
      "cell_type": "markdown",
      "source": [
        "**8.\tCheck if a string is a palindrome.**"
      ],
      "metadata": {
        "id": "cSx1Bj-QphGo"
      }
    },
    {
      "cell_type": "code",
      "source": [
        "def palindrome(myStr):\n",
        "  revStr = \"\".join(reversed(myStr))\n",
        "\n",
        "  if revStr.lower() == myStr.lower():\n",
        "    print(\"Palindrome\")\n",
        "  else:\n",
        "    print(\"No Palindrom\")\n",
        "\n",
        "palindrome(\"Dad\")"
      ],
      "metadata": {
        "colab": {
          "base_uri": "https://localhost:8080/"
        },
        "id": "YoOnNO_9n45r",
        "outputId": "6d5991e5-6e35-4f0e-81c8-a1f46fcfc94f"
      },
      "execution_count": 20,
      "outputs": [
        {
          "output_type": "stream",
          "name": "stdout",
          "text": [
            "Palindrome\n"
          ]
        }
      ]
    },
    {
      "cell_type": "markdown",
      "source": [
        "**9.\tFind the second largest number in a list.**"
      ],
      "metadata": {
        "id": "McUO5nSAsIDJ"
      }
    },
    {
      "cell_type": "code",
      "source": [
        "def secondLargest(arr):\n",
        "  max = float('-inf')\n",
        "  secondMax = float('-inf')\n",
        "  for i in range(len(arr)):\n",
        "    if max < arr[i]:\n",
        "      secondMax = max\n",
        "      max = arr[i]\n",
        "    elif secondMax < arr[i] and secondMax < max:\n",
        "      secondMax = arr[i]\n",
        "\n",
        "  return max, secondMax\n",
        "\n",
        "secondLargest([1111,11123,342,12,123,11,122,1])"
      ],
      "metadata": {
        "colab": {
          "base_uri": "https://localhost:8080/"
        },
        "id": "NRW6NsMhpxSh",
        "outputId": "2b0c5c4f-f5b6-41d0-8c5c-9d147e996f9c"
      },
      "execution_count": 32,
      "outputs": [
        {
          "output_type": "execute_result",
          "data": {
            "text/plain": [
              "(11123, 1111)"
            ]
          },
          "metadata": {},
          "execution_count": 32
        }
      ]
    },
    {
      "cell_type": "markdown",
      "source": [
        "**10.\tMerge two lists and remove duplicates.**"
      ],
      "metadata": {
        "id": "1ZW2uoYexInP"
      }
    },
    {
      "cell_type": "code",
      "source": [
        "def mergeTwoList(arr1,arr2):\n",
        "  return arr1+arr2\n",
        "\n",
        "mergeTwoList([1,2,3,4],[3,21,121,12])"
      ],
      "metadata": {
        "colab": {
          "base_uri": "https://localhost:8080/"
        },
        "id": "8Muydl-XtOf4",
        "outputId": "288150ec-ea16-483c-e5d4-b66c9a9b37ec"
      },
      "execution_count": 33,
      "outputs": [
        {
          "output_type": "execute_result",
          "data": {
            "text/plain": [
              "[1, 2, 3, 4, 3, 21, 121, 12]"
            ]
          },
          "metadata": {},
          "execution_count": 33
        }
      ]
    },
    {
      "cell_type": "code",
      "source": [
        "def mergeTwoList2(arr1,arr2):\n",
        "  arr1.extend(arr2)\n",
        "  return arr1\n",
        "\n",
        "mergeTwoList2([1,2,3,4],[3,21,121,12])"
      ],
      "metadata": {
        "colab": {
          "base_uri": "https://localhost:8080/"
        },
        "id": "HJKJKrXBzsWu",
        "outputId": "82d6c985-b213-46e7-dcca-7c81164880f3"
      },
      "execution_count": 40,
      "outputs": [
        {
          "output_type": "execute_result",
          "data": {
            "text/plain": [
              "[1, 2, 3, 4, 3, 21, 121, 12]"
            ]
          },
          "metadata": {},
          "execution_count": 40
        }
      ]
    },
    {
      "cell_type": "code",
      "source": [
        "def mergeTwoList2(arr1,arr2):\n",
        "  c = [*arr1, *arr2]\n",
        "  return c\n",
        "\n",
        "mergeTwoList2([1,2,3,4],[3,21,121,12])"
      ],
      "metadata": {
        "colab": {
          "base_uri": "https://localhost:8080/"
        },
        "id": "b1rbLt6q0RrZ",
        "outputId": "74984785-7711-4b43-f903-d5a12ea145cb"
      },
      "execution_count": 42,
      "outputs": [
        {
          "output_type": "execute_result",
          "data": {
            "text/plain": [
              "[1, 2, 3, 4, 3, 21, 121, 12]"
            ]
          },
          "metadata": {},
          "execution_count": 42
        }
      ]
    },
    {
      "cell_type": "code",
      "source": [
        "def mergerList(arr1, arr2):\n",
        "  mergArr = []\n",
        "  for i in arr1:\n",
        "    mergArr.append(i)\n",
        "  for j in arr2:\n",
        "    mergArr.append(j)\n",
        "\n",
        "  return mergArr\n",
        "\n",
        "mergerList([1,2321,213,1321,1213,1],[1,23,5,4,5,7,7,8])"
      ],
      "metadata": {
        "colab": {
          "base_uri": "https://localhost:8080/"
        },
        "id": "cQ66vi6j0q-3",
        "outputId": "5ad73be3-3993-454e-c95a-ad44b48c7c98"
      },
      "execution_count": 43,
      "outputs": [
        {
          "output_type": "execute_result",
          "data": {
            "text/plain": [
              "[1, 2321, 213, 1321, 1213, 1, 1, 23, 5, 4, 5, 7, 7, 8]"
            ]
          },
          "metadata": {},
          "execution_count": 43
        }
      ]
    },
    {
      "cell_type": "markdown",
      "source": [
        "**11.\tCount frequency of each element in a list.**"
      ],
      "metadata": {
        "id": "DJRy_ad11fdM"
      }
    },
    {
      "cell_type": "code",
      "source": [
        "def frequencyCount(arr):\n",
        "  freq = dict()\n",
        "  for i in range(len(arr)):\n",
        "    count = 0\n",
        "    for j in range(len(arr)):\n",
        "      if arr[i] == arr[j]:\n",
        "        count +=1\n",
        "    freq[arr[i]] = count\n",
        "\n",
        "  return freq\n",
        "\n",
        "frequencyCount(['Uzair',1,1,2321,2321,11,12,12,1,5,4,'Uzair','a'])"
      ],
      "metadata": {
        "colab": {
          "base_uri": "https://localhost:8080/"
        },
        "id": "IcjAi3021T9k",
        "outputId": "49efe300-e301-4912-8812-ca42dba89a44"
      },
      "execution_count": 6,
      "outputs": [
        {
          "output_type": "execute_result",
          "data": {
            "text/plain": [
              "{'Uzair': 2, 1: 3, 2321: 2, 11: 1, 12: 2, 5: 1, 4: 1, 'a': 1}"
            ]
          },
          "metadata": {},
          "execution_count": 6
        }
      ]
    },
    {
      "cell_type": "markdown",
      "source": [
        "**12.\tSort a list without using the built-in sort() method.**"
      ],
      "metadata": {
        "id": "cBYLGAl9sLO6"
      }
    },
    {
      "cell_type": "code",
      "source": [
        "def mySort(arr):\n",
        "  for i in range(len(arr)):\n",
        "    min = arr[i]\n",
        "    idx = i\n",
        "    c = i\n",
        "    for j in range(i,len(arr)):\n",
        "      if arr[j] < min :\n",
        "        min = arr[j]\n",
        "        idx = c\n",
        "      c+=1\n",
        "    temp = arr[i]\n",
        "    arr[i] = min\n",
        "    arr[idx] = temp\n",
        "  print(arr)\n",
        "\n",
        "mySort([1,2,1,1,12,3,3,3])\n"
      ],
      "metadata": {
        "colab": {
          "base_uri": "https://localhost:8080/"
        },
        "id": "P8q7F6r32ENU",
        "outputId": "3fb95d81-f965-4a5f-af01-ef8822aaf160"
      },
      "execution_count": 42,
      "outputs": [
        {
          "output_type": "stream",
          "name": "stdout",
          "text": [
            "[1, 1, 1, 2, 3, 3, 3, 12]\n"
          ]
        }
      ]
    },
    {
      "cell_type": "markdown",
      "source": [
        "**13. Print the sentence backwards, but keep words in the correct order**"
      ],
      "metadata": {
        "id": "qC4ZbLapsvgc"
      }
    },
    {
      "cell_type": "code",
      "source": [
        "def backwordSentence(myStr):\n",
        "  s = myStr.split()\n",
        "  s.reverse()\n",
        "  sentence = \" \".join(s)\n",
        "  s2 = ''\n",
        "  for i in range(len(sentence)-1,-1,-1):\n",
        "      s2 = s2 + sentence[i]\n",
        "  return s2\n",
        "\n",
        "backwordSentence(\"Hello is\")"
      ],
      "metadata": {
        "colab": {
          "base_uri": "https://localhost:8080/",
          "height": 36
        },
        "id": "KbIuH2s6sybQ",
        "outputId": "7036b42d-2404-44ea-ca18-b234b3c49b92"
      },
      "execution_count": 32,
      "outputs": [
        {
          "output_type": "execute_result",
          "data": {
            "text/plain": [
              "'olleH si'"
            ],
            "application/vnd.google.colaboratory.intrinsic+json": {
              "type": "string"
            }
          },
          "metadata": {},
          "execution_count": 32
        }
      ]
    },
    {
      "cell_type": "markdown",
      "source": [
        "**14. Total number of unique characters in a sentence(ignore spaces)**"
      ],
      "metadata": {
        "id": "BSw9_Divszia"
      }
    },
    {
      "cell_type": "code",
      "source": [
        "def noOfUniqueChar(sent):\n",
        "  uniq = []\n",
        "  for i in sent.lower():\n",
        "    if i not in uniq:\n",
        "      uniq.append(i)\n",
        "\n",
        "  return len(uniq)\n",
        "\n",
        "noOfUniqueChar(\"Uzair\")"
      ],
      "metadata": {
        "colab": {
          "base_uri": "https://localhost:8080/"
        },
        "id": "uhZ8iPf0uZN8",
        "outputId": "d782d6a7-2ec5-480f-cfcb-ec23f9eae4e9"
      },
      "execution_count": 31,
      "outputs": [
        {
          "output_type": "execute_result",
          "data": {
            "text/plain": [
              "5"
            ]
          },
          "metadata": {},
          "execution_count": 31
        }
      ]
    },
    {
      "cell_type": "code",
      "source": [],
      "metadata": {
        "id": "LvqDJ9yZvbE2"
      },
      "execution_count": null,
      "outputs": []
    }
  ]
}
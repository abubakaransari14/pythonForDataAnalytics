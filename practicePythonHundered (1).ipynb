{
  "nbformat": 4,
  "nbformat_minor": 0,
  "metadata": {
    "colab": {
      "provenance": []
    },
    "kernelspec": {
      "name": "python3",
      "display_name": "Python 3"
    },
    "language_info": {
      "name": "python"
    }
  },
  "cells": [
    {
      "cell_type": "markdown",
      "source": [
        "# **15th October, 2025**"
      ],
      "metadata": {
        "id": "3_RKCfakBQKE"
      }
    },
    {
      "cell_type": "markdown",
      "source": [
        "# **EASY LEVEL (25 QUESTIONS)**"
      ],
      "metadata": {
        "id": "NAAVJ7gfW0G8"
      }
    },
    {
      "cell_type": "markdown",
      "source": [
        "**1. Write a program to find the factorial of a number using recursion.**"
      ],
      "metadata": {
        "id": "3pw8RpaFBh5y"
      }
    },
    {
      "cell_type": "code",
      "execution_count": 2,
      "metadata": {
        "colab": {
          "base_uri": "https://localhost:8080/"
        },
        "id": "ALtaufLqBI8W",
        "outputId": "5b69c339-b555-4a05-ecad-60bb95daea6d"
      },
      "outputs": [
        {
          "output_type": "execute_result",
          "data": {
            "text/plain": [
              "120"
            ]
          },
          "metadata": {},
          "execution_count": 2
        }
      ],
      "source": [
        "def factorial(num):\n",
        "  if num == 0 or num == 1:\n",
        "    return 1\n",
        "  elif num > 1:\n",
        "    return num * factorial(num-1)\n",
        "  else:\n",
        "    print(\"Please Enter a valid number\")\n",
        "\n",
        "factorial(5)"
      ]
    },
    {
      "cell_type": "code",
      "source": [
        "# now without recursion\n",
        "def factorial2(num2):\n",
        "  if num2 == 0 or num2 == 1:\n",
        "    return 1\n",
        "  fact = 1\n",
        "  while num2 > 1:\n",
        "\n",
        "    fact *= num2\n",
        "\n",
        "    num2 = num2-1\n",
        "  return fact\n",
        "\n",
        "factorial2(5)\n"
      ],
      "metadata": {
        "colab": {
          "base_uri": "https://localhost:8080/"
        },
        "id": "cfnN01StCvfQ",
        "outputId": "b82ac8ec-d9b7-46d9-f61c-087fb16427aa"
      },
      "execution_count": 3,
      "outputs": [
        {
          "output_type": "execute_result",
          "data": {
            "text/plain": [
              "120"
            ]
          },
          "metadata": {},
          "execution_count": 3
        }
      ]
    },
    {
      "cell_type": "markdown",
      "source": [
        "**2.\tPrint the Fibonacci sequence up to n terms.**"
      ],
      "metadata": {
        "id": "nxd3mKPyOkEI"
      }
    },
    {
      "cell_type": "code",
      "source": [
        "def fibonacci(n):\n",
        "    seq = [0, 1]\n",
        "    for i in range(2, n):\n",
        "      seq.append(seq[-1] + seq[-2])\n",
        "    return seq\n",
        "\n",
        "fibonacci(6)"
      ],
      "metadata": {
        "colab": {
          "base_uri": "https://localhost:8080/"
        },
        "id": "S_3FbHqIEVcE",
        "outputId": "3683d353-03eb-4e40-ea4e-f853151be89d"
      },
      "execution_count": 4,
      "outputs": [
        {
          "output_type": "execute_result",
          "data": {
            "text/plain": [
              "[0, 1, 1, 2, 3, 5]"
            ]
          },
          "metadata": {},
          "execution_count": 4
        }
      ]
    },
    {
      "cell_type": "code",
      "source": [
        "def fibonacci2(n2):\n",
        "  a = 0\n",
        "  b = 1\n",
        "  for i in range(n2):\n",
        "    print(a, end=\" \")\n",
        "    temp = a\n",
        "    a = b\n",
        "    b = temp+b\n",
        "\n",
        "fibonacci2(6)"
      ],
      "metadata": {
        "colab": {
          "base_uri": "https://localhost:8080/"
        },
        "id": "0myQTcEXOmu0",
        "outputId": "1969ca3f-b8b9-4777-df1c-380fba155b2f"
      },
      "execution_count": 5,
      "outputs": [
        {
          "output_type": "stream",
          "name": "stdout",
          "text": [
            "0 1 1 2 3 5 "
          ]
        }
      ]
    },
    {
      "cell_type": "markdown",
      "source": [
        "**3.\tCheck if a number is prime or not.**"
      ],
      "metadata": {
        "id": "aeLvmLAgSrHq"
      }
    },
    {
      "cell_type": "code",
      "source": [
        "def primeCheck(n):\n",
        "  c = 0\n",
        "  if n == 0 or n == 1:\n",
        "    print(\"Not a prime Number\")\n",
        "\n",
        "  else:\n",
        "    for i in range(1,n+1):\n",
        "      if n % i == 0:\n",
        "        c += 1\n",
        "      else:\n",
        "        c = c\n",
        "\n",
        "  if c == 2:\n",
        "    print(\"Prime Number\")\n",
        "  else:\n",
        "    print(\"Not Prime\")\n",
        "\n",
        "primeCheck(11)"
      ],
      "metadata": {
        "colab": {
          "base_uri": "https://localhost:8080/"
        },
        "id": "tItDcMMVQjTv",
        "outputId": "06797bd6-fe74-4d76-fdb0-a99d1ba67d3e"
      },
      "execution_count": 6,
      "outputs": [
        {
          "output_type": "stream",
          "name": "stdout",
          "text": [
            "Prime Number\n"
          ]
        }
      ]
    },
    {
      "cell_type": "markdown",
      "source": [
        "**4.\tReverse a string without using slicing.**"
      ],
      "metadata": {
        "id": "eu2KxPAZVot_"
      }
    },
    {
      "cell_type": "code",
      "source": [
        "def reverseString(myString):\n",
        "  revStr = ''\n",
        "  for i in range(len(myString)-1,-1,-1):\n",
        "    revStr += myString[i]\n",
        "  return revStr\n",
        "reverseString(\"Abubakar\")"
      ],
      "metadata": {
        "colab": {
          "base_uri": "https://localhost:8080/",
          "height": 36
        },
        "id": "Xft8vrl2TJmX",
        "outputId": "acb99eac-53c0-4fd7-ad86-f87f6d933741"
      },
      "execution_count": 7,
      "outputs": [
        {
          "output_type": "execute_result",
          "data": {
            "text/plain": [
              "'rakabubA'"
            ],
            "application/vnd.google.colaboratory.intrinsic+json": {
              "type": "string"
            }
          },
          "metadata": {},
          "execution_count": 7
        }
      ]
    },
    {
      "cell_type": "code",
      "source": [
        "def reverseString2(myString2):\n",
        "  return \"\".join(reversed(myString2))\n",
        "\n",
        "reverseString2(\"Abubakar\")\n"
      ],
      "metadata": {
        "colab": {
          "base_uri": "https://localhost:8080/",
          "height": 36
        },
        "id": "BDb9CWiIWCCt",
        "outputId": "75d6a4ac-a550-4828-d51f-924130fd7dd9"
      },
      "execution_count": 8,
      "outputs": [
        {
          "output_type": "execute_result",
          "data": {
            "text/plain": [
              "'rakabubA'"
            ],
            "application/vnd.google.colaboratory.intrinsic+json": {
              "type": "string"
            }
          },
          "metadata": {},
          "execution_count": 8
        }
      ]
    },
    {
      "cell_type": "markdown",
      "source": [
        "**5.\tFind the largest element in a list.**"
      ],
      "metadata": {
        "id": "kNFtRO5ZdgCX"
      }
    },
    {
      "cell_type": "code",
      "source": [
        "def largest(arr):\n",
        "  max = arr[0]\n",
        "  for i in range(len(arr)):\n",
        "    if arr[i] > max:\n",
        "      max = arr[i]\n",
        "  return max\n",
        "\n",
        "largest([11,2,3,4,44,7,8,9,44])"
      ],
      "metadata": {
        "colab": {
          "base_uri": "https://localhost:8080/"
        },
        "id": "dT4AIgQsXCgL",
        "outputId": "27431f61-a9aa-4b3c-acbf-615faab34ccb"
      },
      "execution_count": 9,
      "outputs": [
        {
          "output_type": "execute_result",
          "data": {
            "text/plain": [
              "44"
            ]
          },
          "metadata": {},
          "execution_count": 9
        }
      ]
    },
    {
      "cell_type": "markdown",
      "source": [
        "**6.\tCount vowels and consonants in a string.**"
      ],
      "metadata": {
        "id": "5f0Gtjt5eEVr"
      }
    },
    {
      "cell_type": "code",
      "source": [
        "def countVowelConsonants(myStr):\n",
        "  vowel = 'aeiou'\n",
        "  vowelCount = 0\n",
        "  consCount = 0\n",
        "  for i in range(len(myStr)):\n",
        "    if myStr[i].lower() in vowel:\n",
        "      vowelCount +=1\n",
        "    else:\n",
        "      consCount +=1\n",
        "\n",
        "  return str(vowelCount) + ' vowels and ' + str(consCount) + ' consonants'\n",
        "\n",
        "countVowelConsonants('Uyair')"
      ],
      "metadata": {
        "colab": {
          "base_uri": "https://localhost:8080/",
          "height": 36
        },
        "id": "xpBOvK2rd3K-",
        "outputId": "9f65bbc0-cfd2-4e87-cbe0-0d7ca550f105"
      },
      "execution_count": 10,
      "outputs": [
        {
          "output_type": "execute_result",
          "data": {
            "text/plain": [
              "'3 vowels and 2 consonants'"
            ],
            "application/vnd.google.colaboratory.intrinsic+json": {
              "type": "string"
            }
          },
          "metadata": {},
          "execution_count": 10
        }
      ]
    },
    {
      "cell_type": "markdown",
      "source": [
        "**7.\tPrint multiplication table of any number.**"
      ],
      "metadata": {
        "id": "GdpDQ9JKnIes"
      }
    },
    {
      "cell_type": "code",
      "source": [
        "def multiplicationTable(n,start,end):\n",
        "  for i in range(start,end+1):\n",
        "    print(n , \" x \" ,i, \" = \" ,n*i)\n",
        "\n",
        "multiplicationTable(6,5,10)"
      ],
      "metadata": {
        "id": "sYDTUXuEeZfL",
        "colab": {
          "base_uri": "https://localhost:8080/"
        },
        "outputId": "de8f6322-5799-48cd-ef45-5bf972bba4be"
      },
      "execution_count": 11,
      "outputs": [
        {
          "output_type": "stream",
          "name": "stdout",
          "text": [
            "6  x  5  =  30\n",
            "6  x  6  =  36\n",
            "6  x  7  =  42\n",
            "6  x  8  =  48\n",
            "6  x  9  =  54\n",
            "6  x  10  =  60\n"
          ]
        }
      ]
    },
    {
      "cell_type": "markdown",
      "source": [
        "**8.\tCheck if a string is a palindrome.**"
      ],
      "metadata": {
        "id": "cSx1Bj-QphGo"
      }
    },
    {
      "cell_type": "code",
      "source": [
        "def palindrome(myStr):\n",
        "  revStr = \"\".join(reversed(myStr))\n",
        "\n",
        "  if revStr.lower() == myStr.lower():\n",
        "    print(\"Palindrome\")\n",
        "  else:\n",
        "    print(\"No Palindrom\")\n",
        "\n",
        "palindrome(\"Dad\")"
      ],
      "metadata": {
        "colab": {
          "base_uri": "https://localhost:8080/"
        },
        "id": "YoOnNO_9n45r",
        "outputId": "43030844-f9c3-401c-b30c-335cf1bd0fd5"
      },
      "execution_count": 12,
      "outputs": [
        {
          "output_type": "stream",
          "name": "stdout",
          "text": [
            "Palindrome\n"
          ]
        }
      ]
    },
    {
      "cell_type": "markdown",
      "source": [
        "**9.\tFind the second largest number in a list.**"
      ],
      "metadata": {
        "id": "McUO5nSAsIDJ"
      }
    },
    {
      "cell_type": "code",
      "source": [
        "def secondLargest(arr):\n",
        "  max = float('-inf')\n",
        "  secondMax = float('-inf')\n",
        "  for i in range(len(arr)):\n",
        "    if max < arr[i]:\n",
        "      secondMax = max\n",
        "      max = arr[i]\n",
        "    elif secondMax < arr[i] and secondMax < max:\n",
        "      secondMax = arr[i]\n",
        "\n",
        "  return max, secondMax\n",
        "\n",
        "secondLargest([1111,11123,342,12,123,11,122,1])"
      ],
      "metadata": {
        "colab": {
          "base_uri": "https://localhost:8080/"
        },
        "id": "NRW6NsMhpxSh",
        "outputId": "07be9e39-4076-4a37-88ae-e391b8b93d58"
      },
      "execution_count": 13,
      "outputs": [
        {
          "output_type": "execute_result",
          "data": {
            "text/plain": [
              "(11123, 1111)"
            ]
          },
          "metadata": {},
          "execution_count": 13
        }
      ]
    },
    {
      "cell_type": "markdown",
      "source": [
        "**10.\tMerge two lists and remove duplicates.**"
      ],
      "metadata": {
        "id": "1ZW2uoYexInP"
      }
    },
    {
      "cell_type": "code",
      "source": [
        "def mergeTwoList(arr1,arr2):\n",
        "  return arr1+arr2\n",
        "\n",
        "mergeTwoList([1,2,3,4],[3,21,121,12])"
      ],
      "metadata": {
        "colab": {
          "base_uri": "https://localhost:8080/"
        },
        "id": "8Muydl-XtOf4",
        "outputId": "4ad60146-8e9d-4212-e4f6-9894d105d067"
      },
      "execution_count": 14,
      "outputs": [
        {
          "output_type": "execute_result",
          "data": {
            "text/plain": [
              "[1, 2, 3, 4, 3, 21, 121, 12]"
            ]
          },
          "metadata": {},
          "execution_count": 14
        }
      ]
    },
    {
      "cell_type": "code",
      "source": [
        "def mergeTwoList2(arr1,arr2):\n",
        "  arr1.extend(arr2)\n",
        "  return arr1\n",
        "\n",
        "mergeTwoList2([1,2,3,4],[3,21,121,12])"
      ],
      "metadata": {
        "colab": {
          "base_uri": "https://localhost:8080/"
        },
        "id": "HJKJKrXBzsWu",
        "outputId": "b5b806b0-75c8-49d8-bf4c-176af904e5bf"
      },
      "execution_count": 15,
      "outputs": [
        {
          "output_type": "execute_result",
          "data": {
            "text/plain": [
              "[1, 2, 3, 4, 3, 21, 121, 12]"
            ]
          },
          "metadata": {},
          "execution_count": 15
        }
      ]
    },
    {
      "cell_type": "code",
      "source": [
        "def mergeTwoList2(arr1,arr2):\n",
        "  c = [*arr1, *arr2]\n",
        "  return c\n",
        "\n",
        "mergeTwoList2([1,2,3,4],[3,21,121,12])"
      ],
      "metadata": {
        "colab": {
          "base_uri": "https://localhost:8080/"
        },
        "id": "b1rbLt6q0RrZ",
        "outputId": "f3a02b68-388c-4eea-c4a7-32455b3ddc4f"
      },
      "execution_count": 16,
      "outputs": [
        {
          "output_type": "execute_result",
          "data": {
            "text/plain": [
              "[1, 2, 3, 4, 3, 21, 121, 12]"
            ]
          },
          "metadata": {},
          "execution_count": 16
        }
      ]
    },
    {
      "cell_type": "code",
      "source": [
        "def mergerList(arr1, arr2):\n",
        "  mergArr = []\n",
        "  for i in arr1:\n",
        "    mergArr.append(i)\n",
        "  for j in arr2:\n",
        "    mergArr.append(j)\n",
        "\n",
        "  return mergArr\n",
        "\n",
        "mergerList([1,2321,213,1321,1213,1],[1,23,5,4,5,7,7,8])"
      ],
      "metadata": {
        "colab": {
          "base_uri": "https://localhost:8080/"
        },
        "id": "cQ66vi6j0q-3",
        "outputId": "a2e19fe9-7705-4c96-d58b-852f2ec9877a"
      },
      "execution_count": 17,
      "outputs": [
        {
          "output_type": "execute_result",
          "data": {
            "text/plain": [
              "[1, 2321, 213, 1321, 1213, 1, 1, 23, 5, 4, 5, 7, 7, 8]"
            ]
          },
          "metadata": {},
          "execution_count": 17
        }
      ]
    },
    {
      "cell_type": "markdown",
      "source": [
        "**11.\tCount frequency of each element in a list.**"
      ],
      "metadata": {
        "id": "DJRy_ad11fdM"
      }
    },
    {
      "cell_type": "code",
      "source": [
        "def frequencyCount(arr):\n",
        "  freq = dict()\n",
        "  for i in range(len(arr)):\n",
        "    count = 0\n",
        "    for j in range(len(arr)):\n",
        "      if arr[i] == arr[j]:\n",
        "        count +=1\n",
        "    freq[arr[i]] = count\n",
        "\n",
        "  return freq\n",
        "\n",
        "frequencyCount(['Uzair',1,1,2321,2321,11,12,12,1,5,4,'Uzair','a'])"
      ],
      "metadata": {
        "colab": {
          "base_uri": "https://localhost:8080/"
        },
        "id": "IcjAi3021T9k",
        "outputId": "32991e46-c9c9-49a6-a1ef-c4bd78d6b85d"
      },
      "execution_count": 18,
      "outputs": [
        {
          "output_type": "execute_result",
          "data": {
            "text/plain": [
              "{'Uzair': 2, 1: 3, 2321: 2, 11: 1, 12: 2, 5: 1, 4: 1, 'a': 1}"
            ]
          },
          "metadata": {},
          "execution_count": 18
        }
      ]
    },
    {
      "cell_type": "markdown",
      "source": [
        "**12.\tSort a list without using the built-in sort() method.**"
      ],
      "metadata": {
        "id": "cBYLGAl9sLO6"
      }
    },
    {
      "cell_type": "code",
      "source": [
        "def mySort(arr):\n",
        "  for i in range(len(arr)):\n",
        "    min = arr[i]\n",
        "    idx = i\n",
        "    c = i\n",
        "    for j in range(i,len(arr)):\n",
        "      if arr[j] < min :\n",
        "        min = arr[j]\n",
        "        idx = c\n",
        "      c+=1\n",
        "    temp = arr[i]\n",
        "    arr[i] = min\n",
        "    arr[idx] = temp\n",
        "  print(arr)\n",
        "\n",
        "mySort([1,2,1,1,12,3,3,3])\n"
      ],
      "metadata": {
        "colab": {
          "base_uri": "https://localhost:8080/"
        },
        "id": "P8q7F6r32ENU",
        "outputId": "e2e117bc-8253-4df7-8007-57714e9e8a8b"
      },
      "execution_count": 19,
      "outputs": [
        {
          "output_type": "stream",
          "name": "stdout",
          "text": [
            "[1, 1, 1, 2, 3, 3, 3, 12]\n"
          ]
        }
      ]
    },
    {
      "cell_type": "markdown",
      "source": [
        "**13. Print the sentence backwards, but keep words in the correct order**"
      ],
      "metadata": {
        "id": "qC4ZbLapsvgc"
      }
    },
    {
      "cell_type": "code",
      "source": [
        "def backwordSentence(myStr):\n",
        "  s = myStr.split()\n",
        "  s.reverse()\n",
        "  sentence = \" \".join(s)\n",
        "  s2 = ''\n",
        "  for i in range(len(sentence)-1,-1,-1):\n",
        "      s2 = s2 + sentence[i]\n",
        "  return s2\n",
        "\n",
        "backwordSentence(\"Hello is\")"
      ],
      "metadata": {
        "colab": {
          "base_uri": "https://localhost:8080/",
          "height": 36
        },
        "id": "KbIuH2s6sybQ",
        "outputId": "08c1c26b-c5b2-4873-fa91-075d8184f216"
      },
      "execution_count": 20,
      "outputs": [
        {
          "output_type": "execute_result",
          "data": {
            "text/plain": [
              "'olleH si'"
            ],
            "application/vnd.google.colaboratory.intrinsic+json": {
              "type": "string"
            }
          },
          "metadata": {},
          "execution_count": 20
        }
      ]
    },
    {
      "cell_type": "markdown",
      "source": [
        "**14. Total number of unique characters in a sentence(ignore spaces)**"
      ],
      "metadata": {
        "id": "BSw9_Divszia"
      }
    },
    {
      "cell_type": "code",
      "source": [
        "def noOfUniqueChar(sent):\n",
        "  uniq = []\n",
        "  for i in sent.lower():\n",
        "    if i not in uniq:\n",
        "      uniq.append(i)\n",
        "\n",
        "  return len(uniq)\n",
        "\n",
        "noOfUniqueChar(\"Uzair\")"
      ],
      "metadata": {
        "colab": {
          "base_uri": "https://localhost:8080/"
        },
        "id": "uhZ8iPf0uZN8",
        "outputId": "3d0b9e0a-9419-4eb5-cf99-6cb19cf258b5"
      },
      "execution_count": 21,
      "outputs": [
        {
          "output_type": "execute_result",
          "data": {
            "text/plain": [
              "5"
            ]
          },
          "metadata": {},
          "execution_count": 21
        }
      ]
    },
    {
      "cell_type": "markdown",
      "source": [
        "**15.\tConvert Celsius to Fahrenheit and vice versa.**"
      ],
      "metadata": {
        "id": "8gTZLGlSFxIk"
      }
    },
    {
      "cell_type": "code",
      "source": [
        "def tempConversion():\n",
        "  tempType = input(\"Enter the converstion, F for Fahrenheit and C for Celsius: \")\n",
        "  while tempType.lower() != 'c' and tempType.lower() != 'f':\n",
        "    print(\"Please Type Correct!\")\n",
        "    tempType = input(\"Enter F for Fahrenheit and C for Celsius: \")\n",
        "\n",
        "  # F → C: (F - 32) * 5/9\n",
        "  # C → F: (C * 9/5) + 32\n",
        "\n",
        "  if tempType.lower() == 'c':\n",
        "    temp = input(\"Please Enter Temperature in Fahrenheit (°F): \")\n",
        "    cel = (int(temp) - 32) * 5/9\n",
        "    print(f\"Celsius (°C): {cel}°C\")\n",
        "  elif tempType.lower() == 'f':\n",
        "    temp = input(\"Please Enter Temperature in Celsius (°C): \")\n",
        "    fahr = (int(temp) * 9/5) + 32\n",
        "    print(f\"Fahrenheit (°F): {fahr}°F\")\n",
        "\n",
        "\n",
        "tempConversion()\n"
      ],
      "metadata": {
        "colab": {
          "base_uri": "https://localhost:8080/"
        },
        "id": "LvqDJ9yZvbE2",
        "outputId": "f08df067-0582-479d-c393-196ee259f02f"
      },
      "execution_count": 22,
      "outputs": [
        {
          "output_type": "stream",
          "name": "stdout",
          "text": [
            "Enter the converstion, F for Fahrenheit and C for Celsius: 1c\n",
            "Please Type Correct!\n",
            "Enter F for Fahrenheit and C for Celsius: c\n",
            "Please Enter Temperature in Fahrenheit (°F): 104\n",
            "Celsius (°C): 40.0°C\n"
          ]
        }
      ]
    },
    {
      "cell_type": "markdown",
      "source": [
        "**16.\tSwap two numbers without using a third variable.**"
      ],
      "metadata": {
        "id": "iOPWaL5qKFiX"
      }
    },
    {
      "cell_type": "code",
      "source": [
        "\n",
        "def swappWithoutOtherVariable(firstName, lastName):\n",
        "  firstName = firstName + lastName #AbubakarAnsari 14-6\n",
        "  lastName = firstName[0:len(firstName)-len(lastName)]\n",
        "  firstName = firstName[len(lastName):]\n",
        "  print(f\"Last Name: {lastName}\")\n",
        "  print(f\"First Name: {firstName}\")\n",
        "\n",
        "firstName = \"Abubakar\"\n",
        "lastName = \"Ansari\"\n",
        "swappWithoutOtherVariable(\"Uzair\",\"Ansari\")\n",
        "swappWithoutOtherVariable(firstName,lastName)"
      ],
      "metadata": {
        "colab": {
          "base_uri": "https://localhost:8080/"
        },
        "id": "rXfR2fTLGlCp",
        "outputId": "8aa8a31f-4a3c-4ec0-e3c5-19caef838d0c"
      },
      "execution_count": 23,
      "outputs": [
        {
          "output_type": "stream",
          "name": "stdout",
          "text": [
            "Last Name: Uzair\n",
            "First Name: Ansari\n",
            "Last Name: Abubakar\n",
            "First Name: Ansari\n"
          ]
        }
      ]
    },
    {
      "cell_type": "markdown",
      "source": [
        "**17.\tFind the sum of digits of a number.**"
      ],
      "metadata": {
        "id": "FEJYsxSCO_nV"
      }
    },
    {
      "cell_type": "code",
      "source": [
        "def sumOfDigits():\n",
        "  num = input(\"Enter a Number: \")\n",
        "  sum = 0\n",
        "  for i in range(len(num)):\n",
        "    sum += int(num[i])\n",
        "\n",
        "  return sum\n",
        "\n",
        "sumOfDigits()"
      ],
      "metadata": {
        "colab": {
          "base_uri": "https://localhost:8080/"
        },
        "id": "nQ-0g_WCMSw6",
        "outputId": "ebfa8ebe-4381-4c75-87b8-8ad5c75b59b9"
      },
      "execution_count": 24,
      "outputs": [
        {
          "name": "stdout",
          "output_type": "stream",
          "text": [
            "Enter a Number: 104\n"
          ]
        },
        {
          "output_type": "execute_result",
          "data": {
            "text/plain": [
              "5"
            ]
          },
          "metadata": {},
          "execution_count": 24
        }
      ]
    },
    {
      "cell_type": "markdown",
      "source": [
        "**18.\tPrint all even and odd numbers from a list separately.**"
      ],
      "metadata": {
        "id": "IEthIkPVPyxG"
      }
    },
    {
      "cell_type": "code",
      "source": [
        "def sepEvenOdd(arr):\n",
        "  even = []\n",
        "  odd = []\n",
        "  for i in range(len(arr)):\n",
        "    if arr[i] == 1:\n",
        "      odd.append(arr[i])\n",
        "    elif arr[i] % 2 == 0:\n",
        "      even.append(arr[i])\n",
        "    else:\n",
        "      odd.append(arr[i])\n",
        "  print(f\"Even Collection in List: {even}\")\n",
        "  print(f\"Odd Collection in List: {odd}\")\n",
        "\n",
        "sepEvenOdd([1,2,3,4,5,6,7,8,9])"
      ],
      "metadata": {
        "colab": {
          "base_uri": "https://localhost:8080/"
        },
        "id": "Eb97s8eHPd4z",
        "outputId": "ccba6236-565d-45bf-ffd8-887998b1f6fb"
      },
      "execution_count": 25,
      "outputs": [
        {
          "output_type": "stream",
          "name": "stdout",
          "text": [
            "Even Collection in List: [2, 4, 6, 8]\n",
            "Odd Collection in List: [1, 3, 5, 7, 9]\n"
          ]
        }
      ]
    },
    {
      "cell_type": "markdown",
      "source": [
        "**19.\tFind all numbers divisible by 7 and 5 between 1500 and 2700.**"
      ],
      "metadata": {
        "id": "LSuXlrEQiPpR"
      }
    },
    {
      "cell_type": "code",
      "source": [
        "def numberDivisble(start, end):\n",
        "  listOfNum = []\n",
        "  for i in range(start, end+1):\n",
        "    if i % 7 == 0 and i % 5 == 0:\n",
        "      listOfNum.append(i)\n",
        "\n",
        "  return listOfNum\n",
        "\n",
        "numberDivisble(1500,2700)\n"
      ],
      "metadata": {
        "id": "Z3qMJGmcQYUi",
        "colab": {
          "base_uri": "https://localhost:8080/"
        },
        "outputId": "4a8f7cbb-50e7-4e65-b279-5d7f3e3d3133"
      },
      "execution_count": 26,
      "outputs": [
        {
          "output_type": "execute_result",
          "data": {
            "text/plain": [
              "[1505,\n",
              " 1540,\n",
              " 1575,\n",
              " 1610,\n",
              " 1645,\n",
              " 1680,\n",
              " 1715,\n",
              " 1750,\n",
              " 1785,\n",
              " 1820,\n",
              " 1855,\n",
              " 1890,\n",
              " 1925,\n",
              " 1960,\n",
              " 1995,\n",
              " 2030,\n",
              " 2065,\n",
              " 2100,\n",
              " 2135,\n",
              " 2170,\n",
              " 2205,\n",
              " 2240,\n",
              " 2275,\n",
              " 2310,\n",
              " 2345,\n",
              " 2380,\n",
              " 2415,\n",
              " 2450,\n",
              " 2485,\n",
              " 2520,\n",
              " 2555,\n",
              " 2590,\n",
              " 2625,\n",
              " 2660,\n",
              " 2695]"
            ]
          },
          "metadata": {},
          "execution_count": 26
        }
      ]
    },
    {
      "cell_type": "markdown",
      "source": [
        "**20.\tCreate a dictionary from two lists.**"
      ],
      "metadata": {
        "id": "eXyASEUrjZCI"
      }
    },
    {
      "cell_type": "code",
      "source": [
        "def dicCreation (list1, list2):\n",
        "  myDict = dict()\n",
        "  for i in range(len(list1)):\n",
        "    myDict[list1[i]] = list2[i]\n",
        "  return myDict\n",
        "\n",
        "dicCreation([\"Uzair\",\"Umair\",\"Bilal\"],[24,22,17])"
      ],
      "metadata": {
        "colab": {
          "base_uri": "https://localhost:8080/"
        },
        "id": "_WFqXNUKit0e",
        "outputId": "846f565a-749b-4017-8a58-181328a2f59e"
      },
      "execution_count": 30,
      "outputs": [
        {
          "output_type": "execute_result",
          "data": {
            "text/plain": [
              "{'Uzair': 24, 'Umair': 22, 'Bilal': 17}"
            ]
          },
          "metadata": {},
          "execution_count": 30
        }
      ]
    },
    {
      "cell_type": "markdown",
      "source": [
        "**21.\tRemove all punctuation from a string.**"
      ],
      "metadata": {
        "id": "-6Ua9U51kc4a"
      }
    },
    {
      "cell_type": "code",
      "source": [
        "def removePunctuations(myStr):\n",
        "  punctuations = \"!()-[]{};:'\\\"\\\\,<>./?@#$%^&*_~\"\n",
        "  cleanText = \"\"\n",
        "  for i in myStr:\n",
        "    if i not in punctuations:\n",
        "      cleanText+=i\n",
        "  return cleanText\n",
        "\n",
        "removePunctuations(\"!()-[]{};:'\\\"\\\\,<>./?@#$%^&*_~Uzair\")\n"
      ],
      "metadata": {
        "colab": {
          "base_uri": "https://localhost:8080/",
          "height": 36
        },
        "id": "Wtg3BZQakCQ3",
        "outputId": "e4db2bba-8c8d-4ead-e00f-33b3d32a9199"
      },
      "execution_count": 31,
      "outputs": [
        {
          "output_type": "execute_result",
          "data": {
            "text/plain": [
              "'Uzair'"
            ],
            "application/vnd.google.colaboratory.intrinsic+json": {
              "type": "string"
            }
          },
          "metadata": {},
          "execution_count": 31
        }
      ]
    },
    {
      "cell_type": "markdown",
      "source": [
        "**22.\tFind the common elements between two lists.**"
      ],
      "metadata": {
        "id": "YFe1SL8OlNco"
      }
    },
    {
      "cell_type": "code",
      "source": [
        "def findCommons(list1, list2):\n",
        "  commanList = []\n",
        "  for i in range(len(list1)):\n",
        "    for j in range(len(list2)):\n",
        "      if list1[i] == list2[j]:\n",
        "       if list1[i] not in commanList:\n",
        "         commanList.append(list1[i])\n",
        "      else:\n",
        "        pass\n",
        "  return commanList\n",
        "\n",
        "findCommons([1,3,3,2,5,4],[4,5,5,2])"
      ],
      "metadata": {
        "colab": {
          "base_uri": "https://localhost:8080/"
        },
        "id": "CfKp8aeelE2p",
        "outputId": "8d4cfdee-7f1f-439e-b376-7c146dea05cb"
      },
      "execution_count": 32,
      "outputs": [
        {
          "output_type": "execute_result",
          "data": {
            "text/plain": [
              "[2, 5, 4]"
            ]
          },
          "metadata": {},
          "execution_count": 32
        }
      ]
    },
    {
      "cell_type": "markdown",
      "source": [
        "**23.\tCalculate the area of a circle given its radius.**"
      ],
      "metadata": {
        "id": "vALStggiIbLf"
      }
    },
    {
      "cell_type": "code",
      "source": [
        "import math\n",
        "def radiusOfCircle (radius):\n",
        "  # area = πr2 & pi = 3.142\n",
        "  area = math.pi * (radius**2)\n",
        "  return round(area,2)\n",
        "\n",
        "radiusOfCircle(4)"
      ],
      "metadata": {
        "colab": {
          "base_uri": "https://localhost:8080/"
        },
        "id": "ki28T_ySlx3T",
        "outputId": "c0e0e966-8cb8-4398-af75-a96f5da0bc15"
      },
      "execution_count": 35,
      "outputs": [
        {
          "output_type": "execute_result",
          "data": {
            "text/plain": [
              "50.27"
            ]
          },
          "metadata": {},
          "execution_count": 35
        }
      ]
    },
    {
      "cell_type": "markdown",
      "source": [
        "**24.\tCheck if a number is an Armstrong number.**"
      ],
      "metadata": {
        "id": "0ZGOBu4GM7xs"
      }
    },
    {
      "cell_type": "code",
      "source": [
        "def checkArmstrong(num):\n",
        "  num = str(num)\n",
        "  armNum = 0\n",
        "  for i in str(num):\n",
        "    armNum += int(i)**len(num)\n",
        "\n",
        "  if armNum == int(num):\n",
        "    print(f\"{num} is a Armstrong\") #153,1634,370,371\n",
        "  else:\n",
        "    print(f\"{num} is not an Armstrong number\")\n",
        "\n",
        "\n",
        "checkArmstrong(1634)"
      ],
      "metadata": {
        "colab": {
          "base_uri": "https://localhost:8080/"
        },
        "id": "BHzz1CP9MmnE",
        "outputId": "22755b80-ffe7-4f52-be79-8b982465e4e7"
      },
      "execution_count": 65,
      "outputs": [
        {
          "output_type": "stream",
          "name": "stdout",
          "text": [
            "1634 is a Armstrong\n"
          ]
        }
      ]
    },
    {
      "cell_type": "markdown",
      "source": [
        "**25.\tCount occurrences of a word in a sentence.**"
      ],
      "metadata": {
        "id": "bpm1LKmXSHqE"
      }
    },
    {
      "cell_type": "code",
      "source": [
        "def occuranceOfWord(word,sent):\n",
        "  newSent = sent.lower().split()\n",
        "  c = 0\n",
        "  for w in newSent:\n",
        "    if word.lower() == w:\n",
        "      c=c+1\n",
        "    else:\n",
        "      c=c\n",
        "  return c\n",
        "occuranceOfWord(\"python\", \"Python is easy to learn and Python is powerful\")"
      ],
      "metadata": {
        "colab": {
          "base_uri": "https://localhost:8080/"
        },
        "id": "eE6WYDarNXr1",
        "outputId": "ab2f2f96-5d5d-468c-8a2b-097ac0e368aa"
      },
      "execution_count": 78,
      "outputs": [
        {
          "output_type": "execute_result",
          "data": {
            "text/plain": [
              "2"
            ]
          },
          "metadata": {},
          "execution_count": 78
        }
      ]
    },
    {
      "cell_type": "markdown",
      "source": [
        "**26.\tFind the smallest missing number in a sorted list.**"
      ],
      "metadata": {
        "id": "yz_9mqywSL73"
      }
    },
    {
      "cell_type": "code",
      "source": [
        "def smallestMissingNum(sortArr):\n",
        "  start = sortArr[0]\n",
        "  for i in range(len(sortArr)):\n",
        "    expected = start +i\n",
        "    if sortArr[i] != expected:\n",
        "          return expected\n",
        "  return sortArr[-1] + 1\n",
        "\n",
        "smallestMissingNum([10, 11, 13 ,14, 15, 16])"
      ],
      "metadata": {
        "colab": {
          "base_uri": "https://localhost:8080/"
        },
        "id": "YYHyo7dkP9gT",
        "outputId": "5646a14a-51b0-4838-8ef2-8b1de91f0244"
      },
      "execution_count": 97,
      "outputs": [
        {
          "output_type": "execute_result",
          "data": {
            "text/plain": [
              "12"
            ]
          },
          "metadata": {},
          "execution_count": 97
        }
      ]
    },
    {
      "cell_type": "markdown",
      "source": [
        "**27.\tPrint all substrings of a given string.**"
      ],
      "metadata": {
        "id": "g2Y42uBBVCgL"
      }
    },
    {
      "cell_type": "code",
      "source": [
        "def subString(myStr):\n",
        "  for i in range(len(myStr)):\n",
        "    sub = \"\"\n",
        "    for j in range(i,len(myStr)):\n",
        "      sub += myStr[j]\n",
        "      print(sub)\n",
        "\n",
        "subString('Abubakar')"
      ],
      "metadata": {
        "colab": {
          "base_uri": "https://localhost:8080/"
        },
        "id": "SQLmLXhXSpTE",
        "outputId": "b3d150c5-25aa-4b38-8b0a-75fe368d2211"
      },
      "execution_count": 102,
      "outputs": [
        {
          "output_type": "stream",
          "name": "stdout",
          "text": [
            "A\n",
            "Ab\n",
            "Abu\n",
            "Abub\n",
            "Abuba\n",
            "Abubak\n",
            "Abubaka\n",
            "Abubakar\n",
            "b\n",
            "bu\n",
            "bub\n",
            "buba\n",
            "bubak\n",
            "bubaka\n",
            "bubakar\n",
            "u\n",
            "ub\n",
            "uba\n",
            "ubak\n",
            "ubaka\n",
            "ubakar\n",
            "b\n",
            "ba\n",
            "bak\n",
            "baka\n",
            "bakar\n",
            "a\n",
            "ak\n",
            "aka\n",
            "akar\n",
            "k\n",
            "ka\n",
            "kar\n",
            "a\n",
            "ar\n",
            "r\n"
          ]
        }
      ]
    },
    {
      "cell_type": "code",
      "source": [],
      "metadata": {
        "id": "JRHDg70EVO7X"
      },
      "execution_count": null,
      "outputs": []
    }
  ]
}